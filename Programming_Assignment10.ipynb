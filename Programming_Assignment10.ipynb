{
  "nbformat": 4,
  "nbformat_minor": 0,
  "metadata": {
    "colab": {
      "name": "Programming_Assignment10.ipynb",
      "provenance": []
    },
    "kernelspec": {
      "name": "python3",
      "display_name": "Python 3"
    },
    "language_info": {
      "name": "python"
    }
  },
  "cells": [
    {
      "cell_type": "markdown",
      "source": [
        "1. Write a Python program to find sum of elements in list?"
      ],
      "metadata": {
        "id": "AqBD2L_zQNJu"
      }
    },
    {
      "cell_type": "code",
      "execution_count": null,
      "metadata": {
        "id": "_pmjPlbBAage",
        "colab": {
          "base_uri": "https://localhost:8080/"
        },
        "outputId": "4a95a61f-e049-4ec9-fd12-0768b2728788"
      },
      "outputs": [
        {
          "output_type": "stream",
          "name": "stdout",
          "text": [
            "List elements are : [1, 2, 3, 4, 'abc', 5]\n",
            "sum of integer is 15\n"
          ]
        }
      ],
      "source": [
        "l1 = [1,2,3,4,'abc',5]\n",
        "intl1 = []  \n",
        "for i in l1:\n",
        "  if(type(i)==int):\n",
        "    intl1.append(i)\n",
        "  else:\n",
        "    pass\n",
        "print(\"List elements are :\",l1)\n",
        "print(\"sum of integer is\",sum(intl1))"
      ]
    },
    {
      "cell_type": "markdown",
      "source": [
        "2. Write a Python program to Multiply all numbers in the list?"
      ],
      "metadata": {
        "id": "M5f_lFk9Tn_H"
      }
    },
    {
      "cell_type": "code",
      "source": [
        "### Solution 1\n",
        "l1 = [1,2,3,4,'abc',5]\n",
        "intl1 = []  \n",
        "for i in l1:\n",
        "  if(type(i)==int):\n",
        "    intl1.append(i)\n",
        "\n",
        "result = 1 \n",
        "for i in intl1:\n",
        "  result = result * i\n",
        "print(\"List elements are :\",l1)\n",
        "print(\"Multiplication of all number \",result)"
      ],
      "metadata": {
        "colab": {
          "base_uri": "https://localhost:8080/"
        },
        "id": "VkTnB_zCQbGd",
        "outputId": "481d71a3-c225-4f76-a9a7-8ba29bec9c1a"
      },
      "execution_count": null,
      "outputs": [
        {
          "output_type": "stream",
          "name": "stdout",
          "text": [
            "List elements are : [1, 2, 3, 4, 'abc', 5]\n",
            "Multiplication of all number  120\n"
          ]
        }
      ]
    },
    {
      "cell_type": "code",
      "source": [
        "### Solution 2\n",
        "import numpy as np\n",
        "l1 = [1,2,3,4,'abc',5]\n",
        "intl1 = []  \n",
        "for i in l1:\n",
        "  if(type(i)==int):\n",
        "    intl1.append(i)\n",
        "\n",
        "mul = np.prod(intl1)\n",
        "print(\"List elements are :\",l1)\n",
        "print(\"Multiplication of all number \",mul)"
      ],
      "metadata": {
        "colab": {
          "base_uri": "https://localhost:8080/"
        },
        "id": "vqOJrPQBRgmX",
        "outputId": "6da5b9d0-fbe7-4baf-b6ab-22e5c4961652"
      },
      "execution_count": null,
      "outputs": [
        {
          "output_type": "stream",
          "name": "stdout",
          "text": [
            "List elements are : [1, 2, 3, 4, 'abc', 5]\n",
            "Multiplication of all number  120\n"
          ]
        }
      ]
    },
    {
      "cell_type": "markdown",
      "source": [
        "3. Write a Python program to find smallest number in a list?"
      ],
      "metadata": {
        "id": "HLIOYyc4W7y-"
      }
    },
    {
      "cell_type": "code",
      "source": [
        "l1 = [1,2,3,4,'abc',5]\n",
        "intl1 = []  \n",
        "for i in l1:\n",
        "  if(type(i)==int):\n",
        "    intl1.append(i)\n",
        "print(\"List elements are :\",l1)\n",
        "print(\"All interger elements in the list are :\",intl1)\n",
        "print(\"Smallest number in the list is: \",min(intl1))"
      ],
      "metadata": {
        "colab": {
          "base_uri": "https://localhost:8080/"
        },
        "id": "STml91bVT0bO",
        "outputId": "fc0e4c42-906b-4c0d-da60-fca2e9f3a0af"
      },
      "execution_count": null,
      "outputs": [
        {
          "output_type": "stream",
          "name": "stdout",
          "text": [
            "List elements are : [1, 2, 3, 4, 'abc', 5]\n",
            "All interger elements in the list are : [1, 2, 3, 4, 5]\n",
            "Smallest number in the list is:  1\n"
          ]
        }
      ]
    },
    {
      "cell_type": "markdown",
      "source": [
        "4. Write a Python program to find largest number in a list?"
      ],
      "metadata": {
        "id": "nAWzfyoFYBLp"
      }
    },
    {
      "cell_type": "code",
      "source": [
        "l1 = [1,2,3,4,'abc',5]\n",
        "intl1 = []  \n",
        "for i in l1:\n",
        "  if(type(i)==int):\n",
        "    intl1.append(i)\n",
        "print(\"List elements are :\",l1)\n",
        "print(\"All interger elements in the list are :\",intl1)\n",
        "print(\"largest number in the list is: \",max(intl1))"
      ],
      "metadata": {
        "colab": {
          "base_uri": "https://localhost:8080/"
        },
        "id": "TIAfRuRFXg61",
        "outputId": "03cdc71f-a5b4-4fa9-ee23-5405d8cb4c82"
      },
      "execution_count": null,
      "outputs": [
        {
          "output_type": "stream",
          "name": "stdout",
          "text": [
            "List elements are : [1, 2, 3, 4, 'abc', 5]\n",
            "All interger elements in the list are : [1, 2, 3, 4, 5]\n",
            "largest number in the list is:  5\n"
          ]
        }
      ]
    },
    {
      "cell_type": "markdown",
      "source": [
        "5. Write a Python program to find second largest number in a list?"
      ],
      "metadata": {
        "id": "cq59YEUPYPba"
      }
    },
    {
      "cell_type": "code",
      "source": [
        "l1 = [1,2,3,4,'abc',5]\n",
        "intl1 = []  \n",
        "temp = []\n",
        "for i in l1:\n",
        "  if(type(i)==int):\n",
        "    intl1.append(i)\n",
        "\n",
        "temp = intl1\n",
        "print(\"List elements are :\",l1)\n",
        "print(\"All interger elements in the list are :\",intl1)\n",
        "print(\"Largest number in the list\",max(temp))\n",
        "temp.remove(max(temp))\n",
        "print(\"Second Largest number in the list\",max(temp))"
      ],
      "metadata": {
        "colab": {
          "base_uri": "https://localhost:8080/"
        },
        "id": "LPG0lfFuYJf0",
        "outputId": "20409567-9fc4-4a52-914b-053cf4fae0c7"
      },
      "execution_count": null,
      "outputs": [
        {
          "output_type": "stream",
          "name": "stdout",
          "text": [
            "List elements are : [1, 2, 3, 4, 'abc', 5]\n",
            "All interger elements in the list are : [1, 2, 3, 4, 5]\n",
            "Largest number in the list 5\n",
            "Second Largest number in the list 4\n"
          ]
        }
      ]
    },
    {
      "cell_type": "markdown",
      "source": [
        "6. Write a Python program to find N largest elements from a list?"
      ],
      "metadata": {
        "id": "0MyaNB3aZy8C"
      }
    },
    {
      "cell_type": "code",
      "source": [
        "l1 = [1,2,3,4,'abc',5,500,10,10000000,9999999,10000001,\"Hello\"]\n",
        "intl1 = []\n",
        "for i in l1:\n",
        "  if(type(i)==int):\n",
        "    intl1.append(i)\n",
        "print(\"List elements are :\",l1)\n",
        "print(\"All interger elements in the list are :\",intl1)\n",
        "intl1.sort()\n",
        "intl1.reverse()\n",
        "maxnum = int(input(\"How many largest number you would like to print: \"))\n",
        "for i in range(maxnum):\n",
        "  print(intl1[i])\n"
      ],
      "metadata": {
        "colab": {
          "base_uri": "https://localhost:8080/"
        },
        "id": "vgzkiC1LYpZh",
        "outputId": "f6bb9485-7447-4137-85b6-c9fd5bd49f32"
      },
      "execution_count": null,
      "outputs": [
        {
          "output_type": "stream",
          "name": "stdout",
          "text": [
            "List elements are : [1, 2, 3, 4, 'abc', 5, 500, 10, 10000000, 9999999, 10000001, 'Hello']\n",
            "All interger elements in the list are : [1, 2, 3, 4, 5, 500, 10, 10000000, 9999999, 10000001]\n",
            "How many largest number you would like to print: 3\n",
            "10000001\n",
            "10000000\n",
            "9999999\n"
          ]
        }
      ]
    },
    {
      "cell_type": "markdown",
      "source": [
        "7. Write a Python program to print even numbers in a list?"
      ],
      "metadata": {
        "id": "q_phk__lkNFC"
      }
    },
    {
      "cell_type": "code",
      "source": [
        "l1 = [2,1,4,3,5,6,7,8,10,12,11]\n",
        "result = []\n",
        "for i in l1:\n",
        "  if (i % 2 == 0):\n",
        "    result.append(i)\n",
        "\n",
        "print(\"List of Even Number\",result)"
      ],
      "metadata": {
        "colab": {
          "base_uri": "https://localhost:8080/"
        },
        "id": "_oLko040gfNb",
        "outputId": "ea7cfa9e-04f6-4045-cdcf-18f4f4a55025"
      },
      "execution_count": null,
      "outputs": [
        {
          "output_type": "stream",
          "name": "stdout",
          "text": [
            "List of Even Number [2, 4, 6, 8, 10, 12]\n"
          ]
        }
      ]
    },
    {
      "cell_type": "markdown",
      "source": [
        "8. Write a Python program to print odd numbers in a List?"
      ],
      "metadata": {
        "id": "YiwJmTbnumHX"
      }
    },
    {
      "cell_type": "code",
      "source": [
        "l1 = [2,1,4,3,5,6,7,8,10,12,11]\n",
        "result = []\n",
        "for i in l1:\n",
        "  if (i % 2 != 0):\n",
        "    result.append(i)\n",
        "\n",
        "print(\"List of Odd Number\",result)"
      ],
      "metadata": {
        "colab": {
          "base_uri": "https://localhost:8080/"
        },
        "id": "Q-ryk5IZgmLI",
        "outputId": "8fb86e89-9c31-443e-a627-adff4a17a27d"
      },
      "execution_count": null,
      "outputs": [
        {
          "output_type": "stream",
          "name": "stdout",
          "text": [
            "List of Odd Number [1, 3, 5, 7, 11]\n"
          ]
        }
      ]
    },
    {
      "cell_type": "markdown",
      "source": [
        "9. Write a Python program to Remove empty List from List?"
      ],
      "metadata": {
        "id": "AHD7-jWBuwTj"
      }
    },
    {
      "cell_type": "code",
      "source": [
        "l1 = [1,2,3,4,[],1,[3,4,5],4,[],100]\n",
        "print(\"Original list\",l1)\n",
        "for i in l1:\n",
        "  if(type(i) == list):\n",
        "    if(len(i)==0):\n",
        "      l1.remove(i)\n",
        "\n",
        "print(\"After removing empty list\",l1)"
      ],
      "metadata": {
        "colab": {
          "base_uri": "https://localhost:8080/"
        },
        "id": "NxjgE2RAgjWD",
        "outputId": "61476b24-c509-4b7b-c89a-faab1975cf54"
      },
      "execution_count": null,
      "outputs": [
        {
          "output_type": "stream",
          "name": "stdout",
          "text": [
            "Original list [1, 2, 3, 4, [], 1, [3, 4, 5], 4, [], 100]\n",
            "After removing empty list [1, 2, 3, 4, 1, [3, 4, 5], 4, 100]\n"
          ]
        }
      ]
    },
    {
      "cell_type": "markdown",
      "source": [
        "10. Write a Python program to Cloning or Copying a list?"
      ],
      "metadata": {
        "id": "CzLNcq5bzydq"
      }
    },
    {
      "cell_type": "code",
      "source": [
        "n = int(input(\"Enter the lenth of your list : \"))\n",
        "lst = []\n",
        "\n",
        "for i in range(n):\n",
        "    lst.append(int(input()))\n",
        "print(\"The List is \",lst)\n",
        "\n",
        "print(\"The cloned/copied list :\")\n",
        "\n",
        "#Method 1\n",
        "lstcopy = lst[:]\n",
        "print(\"Cloning By list slicing lst[:] \",lstcopy)\n",
        "\n",
        "#method2\n",
        "lst2 = lst.copy()\n",
        "print(\"Cloning By list copying lst.copy() \",lst2)\n",
        "\n",
        "\n",
        "#Method3\n",
        "lstcomprah = [i for i in lst]\n",
        "print(\"Cloning By list Comprahention \",lstcomprah)\n",
        "\n",
        "\n",
        "#method4\n",
        "lstappend=[]\n",
        "for i in lst : lstappend.append(i)\n",
        "print(\"Cloning By list append \",lstappend)\n",
        "\n"
      ],
      "metadata": {
        "colab": {
          "base_uri": "https://localhost:8080/"
        },
        "id": "fOAl6dlRu82e",
        "outputId": "051eedeb-0a7f-4e2f-a947-9401e788e956"
      },
      "execution_count": 2,
      "outputs": [
        {
          "output_type": "stream",
          "name": "stdout",
          "text": [
            "Enter the lenth of your list : 4\n",
            "1\n",
            "2\n",
            "3\n",
            "4\n",
            "The List is  [1, 2, 3, 4]\n",
            "The cloned/copied list :\n",
            "Cloning By list slicing lst[:]  [1, 2, 3, 4]\n",
            "Cloning By list copying lst.copy()  [1, 2, 3, 4]\n",
            "Cloning By list Comprahention  [1, 2, 3, 4]\n",
            "Cloning By list append  [1, 2, 3, 4]\n"
          ]
        }
      ]
    },
    {
      "cell_type": "markdown",
      "source": [
        "11. Write a Python program to Count occurrences of an element in a list?"
      ],
      "metadata": {
        "id": "ab3wRLmo7shQ"
      }
    },
    {
      "cell_type": "code",
      "source": [
        "l1 = [1,2,3,4,5,1,2,3,4,5,7,25,3,1,100,500,100]\n",
        "print(\"Elements in the list are\", l1)\n",
        "num = int(input(\"Enter a num to find the occurance in a list : \"))\n",
        "print(\"Element\",num,\"occurred\",l1.count(num),\"times in a given list\")"
      ],
      "metadata": {
        "colab": {
          "base_uri": "https://localhost:8080/"
        },
        "id": "KclKWANIvXdm",
        "outputId": "77bd4f53-2072-48ce-c6e2-16482c238bec"
      },
      "execution_count": null,
      "outputs": [
        {
          "output_type": "stream",
          "name": "stdout",
          "text": [
            "Elements in the list are [1, 2, 3, 4, 5, 1, 2, 3, 4, 5, 7, 25, 3, 1, 100, 500, 100]\n",
            "Enter a num to find the occurance in a list : 100\n",
            "Element 100 occurred 2 times in a given list\n"
          ]
        }
      ]
    },
    {
      "cell_type": "code",
      "source": [
        ""
      ],
      "metadata": {
        "id": "HpZCnLU3w3l4"
      },
      "execution_count": null,
      "outputs": []
    }
  ]
}