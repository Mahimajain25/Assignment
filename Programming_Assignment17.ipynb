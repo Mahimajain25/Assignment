{
  "nbformat": 4,
  "nbformat_minor": 0,
  "metadata": {
    "colab": {
      "name": "Programming_Assignment17.ipynb",
      "provenance": []
    },
    "kernelspec": {
      "name": "python3",
      "display_name": "Python 3"
    },
    "language_info": {
      "name": "python"
    }
  },
  "cells": [
    {
      "cell_type": "markdown",
      "source": [
        "1. Create a function that takes three arguments a, b, c and returns the sum of the\n",
        "numbers that are evenly divided by c from the range a, b inclusive.\n",
        "Examples\n",
        "evenly_divisible(1, 10, 20) ➞ 0\n",
        "No number between 1 and 10 can be evenly divided by 20."
      ],
      "metadata": {
        "id": "i4fVvT-mANwx"
      }
    },
    {
      "cell_type": "code",
      "execution_count": null,
      "metadata": {
        "colab": {
          "base_uri": "https://localhost:8080/"
        },
        "id": "_sQRV9JF_9I1",
        "outputId": "1edeec96-87f6-4fea-b75c-b5fdd7058c0e"
      },
      "outputs": [
        {
          "output_type": "execute_result",
          "data": {
            "text/plain": [
              "0"
            ]
          },
          "metadata": {},
          "execution_count": 5
        }
      ],
      "source": [
        "def evenly_divisible(a,b,c):\n",
        "  sum = 0\n",
        "  for i in range(a,b+1):\n",
        "    if(i % c == 0):\n",
        "      sum = sum + 1\n",
        "  return sum \n",
        "\n",
        "evenly_divisible(1,10,20)"
      ]
    },
    {
      "cell_type": "markdown",
      "source": [
        "2. Create a function that returns True if a given inequality expression is correct and\n",
        "False otherwise.\n",
        "Examples\n",
        "correct_signs(&quot;3 &lt; 7 &lt; 11&quot;) ➞ True\n",
        "correct_signs(&quot;13 &gt; 44 &gt; 33 &gt; 1&quot;) ➞ False"
      ],
      "metadata": {
        "id": "BJG3MwymBPPB"
      }
    },
    {
      "cell_type": "code",
      "source": [
        "def correct_signs(s):\n",
        "  s = eval(s)\n",
        "  if s:\n",
        "    return True\n",
        "  else:\n",
        "    return False\n",
        "\n",
        "s1=\"3 < 7 < 11\"\n",
        "print(\"String is \", s1, \"Result is\", correct_signs(s1))\n",
        "s2 = '13 > 44 > 33 > 1'\n",
        "print(\"String is \", s2, \"Result is\", correct_signs(s2))\n"
      ],
      "metadata": {
        "colab": {
          "base_uri": "https://localhost:8080/"
        },
        "id": "xlr9iP3N_sd9",
        "outputId": "203393de-0cb1-4b51-a32d-88f7c4d89d7f"
      },
      "execution_count": null,
      "outputs": [
        {
          "output_type": "stream",
          "name": "stdout",
          "text": [
            "String is  3 < 7 < 11 Result is True\n",
            "String is  13 > 44 > 33 > 1 Result is False\n"
          ]
        }
      ]
    },
    {
      "cell_type": "markdown",
      "source": [
        "3. Create a function that replaces all the vowels in a string with a specified character.\n",
        "Examples\n",
        "replace_vowels(&quot;shakespeare&quot;, &quot;*&quot;) ➞ &quot;sh*k*sp**r*&quot;"
      ],
      "metadata": {
        "id": "t1NnySLzDJYy"
      }
    },
    {
      "cell_type": "code",
      "source": [
        "def replace_vowels(s,r):\n",
        "\n",
        "  vowels = 'aeiouAEIOU'\n",
        "  for ele in vowels:\n",
        "    s = s.replace(ele, r)\n",
        "  return s\n",
        "\n",
        "s = input(\"Enter a string \")\n",
        "r = input(\"Enter a char to replace with vowels \")\n",
        "print(replace_vowels(s,r))\n",
        "\n"
      ],
      "metadata": {
        "colab": {
          "base_uri": "https://localhost:8080/"
        },
        "id": "uVqO4LniCMOG",
        "outputId": "23fefe26-4956-4640-cbf8-29c44eab4aa9"
      },
      "execution_count": null,
      "outputs": [
        {
          "output_type": "stream",
          "name": "stdout",
          "text": [
            "Enter a string shakespeare\n",
            "Enter a char to replace with vowels *\n",
            "sh*k*sp**r*\n"
          ]
        }
      ]
    },
    {
      "cell_type": "markdown",
      "source": [
        "4. Write a function that calculates the factorial of a number recursively.\n",
        "Examples\n",
        "factorial(5) ➞ 120"
      ],
      "metadata": {
        "id": "9m5cqadHKK74"
      }
    },
    {
      "cell_type": "code",
      "source": [
        "def fact(x):\n",
        "  if (x == 0 or x == 1):\n",
        "    return 1\n",
        "  else:\n",
        "    return x * fact(x-1)\n",
        "\n",
        "num = int(input(\"Enter a number to find the fatorial \"))\n",
        "print(\"factorial is \", fact(num))\n"
      ],
      "metadata": {
        "colab": {
          "base_uri": "https://localhost:8080/"
        },
        "id": "4HCGq6AcEBJP",
        "outputId": "4b154c35-dbdd-4c7b-c80d-26b411366783"
      },
      "execution_count": null,
      "outputs": [
        {
          "output_type": "stream",
          "name": "stdout",
          "text": [
            "Enter a number to find the fatorial 5\n",
            "factorial is  120\n"
          ]
        }
      ]
    },
    {
      "cell_type": "markdown",
      "source": [
        "5. Hamming distance is the number of characters that differ between two strings.\n",
        "To illustrate:\n",
        "String1: &quot;abcbba&quot;\n",
        "String2: &quot;abcbda&quot;\n",
        "Hamming Distance: 1 - &quot;b&quot; vs. &quot;d&quot; is the only difference.\n",
        "Create a function that computes the hamming distance between two strings.\n",
        "Examples\n",
        "hamming_distance(&quot;abcde&quot;, &quot;bcdef&quot;) ➞ 5\n",
        "hamming_distance(&quot;abcde&quot;, &quot;abcde&quot;) ➞ 0\n",
        "hamming_distance(&quot;strong&quot;, &quot;strung&quot;) ➞ 1"
      ],
      "metadata": {
        "id": "b3e6dU_rLmUm"
      }
    },
    {
      "cell_type": "code",
      "source": [
        "def hamming_distance(s1,s2):\n",
        "  i = 0 \n",
        "  count = 0\n",
        "  while (i < len(s1)):\n",
        "    if (s1[i] != s2[i]):\n",
        "      count = count +1\n",
        "    i = i + 1\n",
        "  return count\n",
        "\n",
        "s1 = input(\"Enter string 1 \")\n",
        "s2 = input(\"Enter string 2 \")\n",
        "print(\"Hamming distance\", hamming_distance(s1,s2))"
      ],
      "metadata": {
        "colab": {
          "base_uri": "https://localhost:8080/"
        },
        "id": "qm2sXfoFHluJ",
        "outputId": "f36753f2-54ad-487f-a906-b022dbf700ce"
      },
      "execution_count": null,
      "outputs": [
        {
          "output_type": "stream",
          "name": "stdout",
          "text": [
            "Enter string 1 abcde\n",
            "Enter string 2 bcdef\n",
            "Hamming distance 5\n"
          ]
        }
      ]
    },
    {
      "cell_type": "code",
      "source": [
        ""
      ],
      "metadata": {
        "id": "wb6LQgr4MjnW"
      },
      "execution_count": null,
      "outputs": []
    }
  ]
}