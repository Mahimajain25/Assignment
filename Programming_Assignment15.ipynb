{
  "nbformat": 4,
  "nbformat_minor": 0,
  "metadata": {
    "colab": {
      "name": "Programming_Assignment15.ipynb",
      "provenance": []
    },
    "kernelspec": {
      "name": "python3",
      "display_name": "Python 3"
    },
    "language_info": {
      "name": "python"
    }
  },
  "cells": [
    {
      "cell_type": "markdown",
      "source": [
        "1. Please write a program using generator to print the numbers which can be divisible by 5 and\n",
        "7 between 0 and n in comma separated form while n is input by console.\n",
        "Example:\n",
        "If the following n is given as input to the program:\n",
        "100\n",
        "Then, the output of the program should be:\n",
        "0,35,70"
      ],
      "metadata": {
        "id": "tvWOjYop4nrs"
      }
    },
    {
      "cell_type": "code",
      "execution_count": null,
      "metadata": {
        "colab": {
          "base_uri": "https://localhost:8080/"
        },
        "id": "Uk-WLk3M4e9g",
        "outputId": "049e7e07-03cd-412b-b1c6-48a7b516a06a"
      },
      "outputs": [
        {
          "output_type": "stream",
          "name": "stdout",
          "text": [
            "Enter a number 100\n",
            "0,35,70\n"
          ]
        }
      ],
      "source": [
        "# yeild  python return statement that stops the execution of the function. \n",
        "#Whereas, the yield statement only pauses the execution of the function. \n",
        "#Another difference is return statements are never executed. whereas, yield statements are executed when the function resumes its execution.\n",
        "\n",
        "def Generator(n):\n",
        "    for i in range(n+1):\n",
        "        if i%5==0 and i%7==0:\n",
        "            yield i\n",
        "\n",
        "n=int(input(\"Enter a number \"))\n",
        "res = []\n",
        "for i in Generator(n):\n",
        "    res.append(str(i))\n",
        "\n",
        "print(\",\".join(res))\n",
        "\n"
      ]
    },
    {
      "cell_type": "markdown",
      "source": [
        "2. Please write a program using generator to print the even numbers between 0 and n in comma\n",
        "separated form while n is input by console.\n",
        "Example:\n",
        "If the following n is given as input to the program:\n",
        "10\n",
        "Then, the output of the program should be:\n",
        "0,2,4,6,8,10"
      ],
      "metadata": {
        "id": "WFIuoAAk7lp4"
      }
    },
    {
      "cell_type": "code",
      "source": [
        "def Generator(n):\n",
        "  for i in range(n+1):\n",
        "    if i %2 == 0:\n",
        "      yield i\n",
        "\n",
        "num = int(input(\"Enter a Number \"))\n",
        "res = []\n",
        "\n",
        "for i in Generator(num):\n",
        "  res.append(str(i))\n",
        "\n",
        "print(\",\".join(res))"
      ],
      "metadata": {
        "colab": {
          "base_uri": "https://localhost:8080/"
        },
        "id": "IOjPz0ir6Wo-",
        "outputId": "9f2f685c-1d9e-4ed8-db31-bbd8639683de"
      },
      "execution_count": null,
      "outputs": [
        {
          "output_type": "stream",
          "name": "stdout",
          "text": [
            "Enter a Number 10\n",
            "0,2,4,6,8,10\n"
          ]
        }
      ]
    },
    {
      "cell_type": "markdown",
      "source": [
        "3. The Fibonacci Sequence is computed based on the following formula:\n",
        "f(n)=0 if n=0\n",
        "f(n)=1 if n=1\n",
        "f(n)=f(n-1)+f(n-2) if n&gt;1\n",
        "Please write a program using list comprehension to print the Fibonacci Sequence in comma\n",
        "separated form with a given n input by console.\n",
        "Example:\n",
        "If the following n is given as input to the program:\n",
        "7\n",
        "\n",
        "     Then, the output of the program should be:\n",
        "     0,1,1,2,3,5,8,13"
      ],
      "metadata": {
        "id": "3h8TpLoGAQPa"
      }
    },
    {
      "cell_type": "code",
      "source": [
        "def f(n):\n",
        "  if n == 0 :\n",
        "    return 0\n",
        "  if n == 1:\n",
        "    return 1\n",
        "  if n > 1 :\n",
        "    return f(n-1)+ f(n-2)\n",
        "\n",
        "num = int(input(\"Enter a Number \"))\n",
        "res = [str(f(i)) for i in range(0,n+1)]\n",
        "print(\",\".join(res))"
      ],
      "metadata": {
        "colab": {
          "base_uri": "https://localhost:8080/"
        },
        "id": "dMMXZlGBAFwC",
        "outputId": "70a83eae-566c-4966-ceb1-6dfb6b97f202"
      },
      "execution_count": null,
      "outputs": [
        {
          "output_type": "stream",
          "name": "stdout",
          "text": [
            "Enter a Number 7\n",
            "0,1,1,2,3,5,8,13\n"
          ]
        }
      ]
    },
    {
      "cell_type": "markdown",
      "source": [
        "4. Assuming that we have some email addresses in the &quot;username@companyname.com&quot; format,\n",
        "please write program to print the user name of a given email address. Both user names and\n",
        "company names are composed of letters only.\n",
        "Example:\n",
        "If the following email address is given as input to the program:\n",
        "john@google.com\n",
        "Then, the output of the program should be:\n",
        "john"
      ],
      "metadata": {
        "id": "eyDdUN7uDLVf"
      }
    },
    {
      "cell_type": "code",
      "source": [
        "# Sol 1\n",
        "def get_user_name(email):\n",
        "  email = email.split('@')\n",
        "  return email[0]\n",
        "\n",
        "email = input(\"Enter an email ID \")\n",
        "get_user_name(email)"
      ],
      "metadata": {
        "colab": {
          "base_uri": "https://localhost:8080/",
          "height": 53
        },
        "id": "ywjhh8OhBMk5",
        "outputId": "70719939-09b2-4d2c-8667-f4df9c8c6ee6"
      },
      "execution_count": null,
      "outputs": [
        {
          "name": "stdout",
          "output_type": "stream",
          "text": [
            "Enter an email ID john@google.com\n"
          ]
        },
        {
          "output_type": "execute_result",
          "data": {
            "text/plain": [
              "'john'"
            ],
            "application/vnd.google.colaboratory.intrinsic+json": {
              "type": "string"
            }
          },
          "metadata": {},
          "execution_count": 27
        }
      ]
    },
    {
      "cell_type": "code",
      "source": [
        "#sol 2 \n",
        "import re\n",
        "emailAddress = input(\"Enter an Email-ID \")\n",
        "pat1 = \"(\\w+)@(\\w+)\\.(com)\"\n",
        "r1 = re.match(pat1,emailAddress)\n",
        "print (r1.group(1))"
      ],
      "metadata": {
        "colab": {
          "base_uri": "https://localhost:8080/"
        },
        "id": "HyqnkAy8FEX_",
        "outputId": "933e5906-9e69-4c63-95da-cab20e7d591b"
      },
      "execution_count": null,
      "outputs": [
        {
          "output_type": "stream",
          "name": "stdout",
          "text": [
            "Enter an Email-ID john@google.com\n",
            "john\n"
          ]
        }
      ]
    },
    {
      "cell_type": "markdown",
      "source": [
        "5. Define a class named Shape and its subclass Square. The Square class has an init function\n",
        "which takes a length as argument. Both classes have a area function which can print the area\n",
        "of the shape where Shape&#39;s area is 0 by default."
      ],
      "metadata": {
        "id": "hGI6ahmMILlg"
      }
    },
    {
      "cell_type": "code",
      "source": [
        "class shape:\n",
        "  def __init__(self):\n",
        "    pass\n",
        "\n",
        "  def area():\n",
        "    area = 0\n",
        "    print(\"shape class area is \",area)\n",
        "    return area\n",
        "\n",
        "class square(shape):\n",
        "\n",
        "  def __init__(self,length = 0):\n",
        "    shape.__init__(self)\n",
        "    self.length = length\n",
        "  \n",
        "  def area(self):\n",
        "    area = self.length * self.length\n",
        "    print(\"Area of Square is \",area)\n",
        "\n",
        "\n",
        "sq = square(2)\n",
        "sq.area()\n",
        "square().area()\n",
        "\n"
      ],
      "metadata": {
        "colab": {
          "base_uri": "https://localhost:8080/"
        },
        "id": "6NLrC0XQGODB",
        "outputId": "4208e2cd-605a-4efd-fec4-0c76b571cbff"
      },
      "execution_count": null,
      "outputs": [
        {
          "output_type": "stream",
          "name": "stdout",
          "text": [
            "Area of Square is  4\n",
            "Area of Square is  0\n"
          ]
        }
      ]
    },
    {
      "cell_type": "code",
      "source": [
        ""
      ],
      "metadata": {
        "id": "Tz5ZLoO-Kp14"
      },
      "execution_count": null,
      "outputs": []
    }
  ]
}