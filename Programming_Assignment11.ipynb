{
  "nbformat": 4,
  "nbformat_minor": 0,
  "metadata": {
    "colab": {
      "name": "Programming_Assignment11.ipynb",
      "provenance": [],
      "collapsed_sections": []
    },
    "kernelspec": {
      "name": "python3",
      "display_name": "Python 3"
    },
    "language_info": {
      "name": "python"
    }
  },
  "cells": [
    {
      "cell_type": "markdown",
      "source": [
        "1. Write a Python program to find words which are greater than given length k?"
      ],
      "metadata": {
        "id": "fYEWm1o-_B8a"
      }
    },
    {
      "cell_type": "code",
      "source": [
        "k = int(input(\"Enter the K value : \"))\n",
        "String = \"Inspiration comes from within yourself. One has to be positive. When you’re positive, good things happen\"\n",
        "print(\"String is :\",String)\n",
        "s = String.split(\" \")\n",
        "greater = []\n",
        "for i in s :\n",
        "  if(len(i) > k):\n",
        "    greater.append(i)\n",
        "\n",
        "print(\"Word greater than\", k, \"are\", greater) "
      ],
      "metadata": {
        "colab": {
          "base_uri": "https://localhost:8080/"
        },
        "id": "rp4sJ2my_HGs",
        "outputId": "88751ae1-cfbd-44c8-d639-ab9557b8b6f8"
      },
      "execution_count": null,
      "outputs": [
        {
          "output_type": "stream",
          "name": "stdout",
          "text": [
            "Enter the K value : 4\n",
            "String is : Inspiration comes from within yourself. One has to be positive. When you’re positive, good things happen\n",
            "Word greater than 4 are ['Inspiration', 'comes', 'within', 'yourself.', 'positive.', 'you’re', 'positive,', 'things', 'happen']\n"
          ]
        }
      ]
    },
    {
      "cell_type": "markdown",
      "source": [
        "2. Write a Python program for removing i-th character from a string?"
      ],
      "metadata": {
        "id": "k9xyVEhblui-"
      }
    },
    {
      "cell_type": "code",
      "source": [
        "S = \"Peace begin when you accept you neither own nor control anything\"\n",
        "print(\"Orignal string is - \",S)\n",
        "i = int(input(\"Enter the the i-th number : \"))\n",
        "i_1 = i + 1 \n",
        "\n",
        "def removing(Str): \n",
        "  String1 = Str[ :i]\n",
        "  String2 = Str[i_1:]\n",
        "  new_String = String1 + String2\n",
        "  return new_String \n",
        "\n",
        "print(\"i-th index in the given string is\",S[i])\n",
        "print(\"Result After removing i-th index chararter from the string - \", removing(S))"
      ],
      "metadata": {
        "colab": {
          "base_uri": "https://localhost:8080/"
        },
        "id": "qKW_Wh6uAPqm",
        "outputId": "c8379b42-7fe2-4d6a-8cb2-6d5e6b6424dd"
      },
      "execution_count": null,
      "outputs": [
        {
          "output_type": "stream",
          "name": "stdout",
          "text": [
            "Orignal string is -  Peace begin when you accept you neither own nor control anything\n",
            "Enter the the i-th number : 7\n",
            "i-th index in the given string is e\n",
            "Result After removing i-th index chararter from the string -  Peace bgin when you accept you neither own nor control anything\n"
          ]
        }
      ]
    },
    {
      "cell_type": "markdown",
      "source": [
        "3. Write a Python program to split and join a string?"
      ],
      "metadata": {
        "id": "YxWJF9uOtpxt"
      }
    },
    {
      "cell_type": "code",
      "source": [
        "String = \"Machine Learning is best\"\n",
        "def string_split(str):\n",
        "  Split_String = str.split(\" \")\n",
        "  return Split_String\n",
        "\n",
        "def string_join(Split_String) :\n",
        "  String = \"~\".join(Split_String)\n",
        "  return String\n",
        "\n",
        "new_String =string_split(String)\n",
        "print(\"String is - \", String)\n",
        "print(\"Split String is - \",string_split(String))\n",
        "print(\"String join with delimeter ~ is \",string_join(new_String))"
      ],
      "metadata": {
        "colab": {
          "base_uri": "https://localhost:8080/"
        },
        "id": "kF2ttrSTnaXu",
        "outputId": "284ca321-1feb-45c8-eb41-9c021482dcec"
      },
      "execution_count": null,
      "outputs": [
        {
          "output_type": "stream",
          "name": "stdout",
          "text": [
            "String is -  Machine Learning is best\n",
            "Split String is -  ['Machine', 'Learning', 'is', 'best']\n",
            "String join with delimeter ~ is  Machine~Learning~is~best\n"
          ]
        }
      ]
    },
    {
      "cell_type": "markdown",
      "source": [
        "4. Write a Python to check if a given string is binary string or not?"
      ],
      "metadata": {
        "id": "U4R2aFacyrJb"
      }
    },
    {
      "cell_type": "code",
      "source": [
        "String1 = \"100110001\"\n",
        "String2 = 'AAA101010'\n",
        "def binary_check(S):\n",
        "  counter = 0\n",
        "  for i in range(len(S)):\n",
        "    if(S[i] != '0' and S[i] != '1'):\n",
        "      counter = counter + 1\n",
        "  if (counter == 0):\n",
        "    print(\"Binary String\")\n",
        "  else:\n",
        "    print(\"Not Binary String\")\n",
        "\n",
        "print(\"String1 is \",String1)\n",
        "binary_check(String1)\n",
        "\n",
        "print(\"String2 is \",String2)\n",
        "binary_check(String2)"
      ],
      "metadata": {
        "id": "93MebCQCqQsO",
        "colab": {
          "base_uri": "https://localhost:8080/"
        },
        "outputId": "65de9691-4e24-487b-978d-f30a5efd9654"
      },
      "execution_count": null,
      "outputs": [
        {
          "output_type": "stream",
          "name": "stdout",
          "text": [
            "String1 is  100110001\n",
            "Binary String\n",
            "String2 is  AAA101010\n",
            "Not Binary String\n"
          ]
        }
      ]
    },
    {
      "cell_type": "markdown",
      "source": [
        "5. Write a Python program to find uncommon words from two Strings?"
      ],
      "metadata": {
        "id": "t-FxB_0aGbUJ"
      }
    },
    {
      "cell_type": "code",
      "source": [
        "def uncommon(s1,s2):\n",
        "  s1 = s1.split(\" \")\n",
        "  s2 = s2.split(\" \")\n",
        "  uncommon = \"\"\n",
        "  for i in s1 :\n",
        "    if i not in s2:\n",
        "      uncommon = uncommon+ \" \" + i\n",
        "\n",
        "  for j in s2 :\n",
        "    if j not in s1:\n",
        "      uncommon = uncommon +\" \"+ j\n",
        "  return uncommon\n",
        "s1 = \"Hello World Good Morning\"\n",
        "s2 = \"Good Morning\"\n",
        "print(uncommon(s1,s2))"
      ],
      "metadata": {
        "colab": {
          "base_uri": "https://localhost:8080/"
        },
        "id": "zqeBsMfF7hM8",
        "outputId": "374d553c-4257-4987-a5e6-aa9bd8a8667f"
      },
      "execution_count": null,
      "outputs": [
        {
          "output_type": "stream",
          "name": "stdout",
          "text": [
            " Hello World\n"
          ]
        }
      ]
    },
    {
      "cell_type": "markdown",
      "source": [
        "6. Write a Python to find all duplicate characters in string?"
      ],
      "metadata": {
        "id": "0gyraJw4HPX8"
      }
    },
    {
      "cell_type": "code",
      "source": [
        "from collections import Counter\n",
        "\n",
        "def duplicates_count():\n",
        "    x =input(\"Enter a word = \")\n",
        "    # counter module count the number of letter in string and return type is dict\n",
        "    for key,val in Counter(x).items():\n",
        "       if val > 1:\n",
        "        print(\"Letter\",key,\"count\",val)\n",
        "\n",
        "duplicates_count()"
      ],
      "metadata": {
        "colab": {
          "base_uri": "https://localhost:8080/"
        },
        "id": "39g69MwMQPkp",
        "outputId": "2591f038-ecad-4158-ea2f-925b0927af91"
      },
      "execution_count": null,
      "outputs": [
        {
          "output_type": "stream",
          "name": "stdout",
          "text": [
            "Enter a word = helllooo\n",
            "Letter l count 3\n",
            "Letter o count 3\n"
          ]
        }
      ]
    },
    {
      "cell_type": "markdown",
      "source": [
        "7. Write a Python Program to check if a string contains any special character?"
      ],
      "metadata": {
        "id": "7qQlLHA8HYCL"
      }
    },
    {
      "cell_type": "code",
      "source": [
        "def check_special_char(x) :\n",
        "  s='[@_!#$%^&*()<>?/\\|}{~:]' \n",
        "  c = 0\n",
        "  for i in range(len(x)):\n",
        "\t  if x[i] in s:\n",
        "\t    c+=1 \n",
        "  if c >= 1:\n",
        "\t  print(x,\"Have Speacial char\")\n",
        "  else:\n",
        "\t  print(x,\"Don't have any speacial char\")\n",
        "\n",
        "\n",
        "check_special_char(\"!@Hello**\")"
      ],
      "metadata": {
        "colab": {
          "base_uri": "https://localhost:8080/"
        },
        "id": "UvedjWK9R5wn",
        "outputId": "fdd420da-e313-46f5-fd1c-16ac84da6aa6"
      },
      "execution_count": null,
      "outputs": [
        {
          "output_type": "stream",
          "name": "stdout",
          "text": [
            "!@Hello** Have Speacial char\n"
          ]
        }
      ]
    }
  ]
}