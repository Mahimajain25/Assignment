{
  "nbformat": 4,
  "nbformat_minor": 0,
  "metadata": {
    "colab": {
      "name": "Programming _Assignment8.ipynb",
      "provenance": [],
      "collapsed_sections": []
    },
    "kernelspec": {
      "name": "python3",
      "display_name": "Python 3"
    },
    "language_info": {
      "name": "python"
    }
  },
  "cells": [
    {
      "cell_type": "markdown",
      "source": [
        "1. Write a Python Program to Add Two Matrices?\n",
        "\n"
      ],
      "metadata": {
        "id": "_JjqHSWLud3j"
      }
    },
    {
      "cell_type": "code",
      "execution_count": null,
      "metadata": {
        "id": "08W_Z4gcWUet",
        "colab": {
          "base_uri": "https://localhost:8080/"
        },
        "outputId": "25bc502e-6394-4cc4-e5b1-d9e8063919eb"
      },
      "outputs": [
        {
          "output_type": "stream",
          "name": "stdout",
          "text": [
            "[3, 3]\n",
            "[3, 3]\n"
          ]
        }
      ],
      "source": [
        "#### Method 1 ####\n",
        "a = [[1,1],[1,1]]\n",
        "b = [[2,2],[2,2]]\n",
        "result = [[0,0],[0,0]]\n",
        "for i in range(len(a)):\n",
        "  for j in range(len(b)):\n",
        "    result[i][j] = a[i][j] + b[i][j]\n",
        "\n",
        "for r in result:\n",
        "  print(r)\n"
      ]
    },
    {
      "cell_type": "code",
      "source": [
        "#### Method 2 Numpy ####\n",
        "import numpy as np\n",
        "a = [[1,1],[1,1]]\n",
        "b = [[2,2],[2,2]]\n",
        "result = [[0,0],[0,0]]\n",
        "addition = np.add(a,b)\n",
        "addition"
      ],
      "metadata": {
        "colab": {
          "base_uri": "https://localhost:8080/"
        },
        "id": "tjgo33vGJVTW",
        "outputId": "b9c91956-f4d8-462a-cb00-c447e7631a22"
      },
      "execution_count": null,
      "outputs": [
        {
          "output_type": "execute_result",
          "data": {
            "text/plain": [
              "array([[3, 3],\n",
              "       [3, 3]])"
            ]
          },
          "metadata": {},
          "execution_count": 21
        }
      ]
    },
    {
      "cell_type": "markdown",
      "source": [
        "2. Write a Python Program to Multiply Two Matrices?"
      ],
      "metadata": {
        "id": "LNXY-XtTFaiO"
      }
    },
    {
      "cell_type": "code",
      "source": [
        "#### Method 1 ####\n",
        "a = [[1,2],[3,4]]\n",
        "b = [[1,3],[2,5]]\n",
        "result = [[0,0],[0,0]]\n",
        "for i in range( len(a) ):\n",
        "   for j in range(len(b[0])):\n",
        "       for k in range(len(b)):\n",
        "           result[i][j] += a[i][k] * b[k][j]\n",
        "for r in result:\n",
        "  print(r)"
      ],
      "metadata": {
        "colab": {
          "base_uri": "https://localhost:8080/"
        },
        "id": "THZk-yWsvZg1",
        "outputId": "a8819253-fd08-452d-9154-9811c1e5c3a7"
      },
      "execution_count": null,
      "outputs": [
        {
          "output_type": "stream",
          "name": "stdout",
          "text": [
            "[5, 13]\n",
            "[11, 29]\n"
          ]
        }
      ]
    },
    {
      "cell_type": "code",
      "source": [
        "#### Method 2 Numpy ####\n",
        "a = [[1,2],[3,4]]\n",
        "b = [[1,3],[2,5]]\n",
        "result = [[0,0],[0,0]]\n",
        "mul = np.dot(a,b)\n",
        "mul"
      ],
      "metadata": {
        "colab": {
          "base_uri": "https://localhost:8080/"
        },
        "id": "yfV_O3IPGp6T",
        "outputId": "12fb8315-c3b3-4372-bc1a-f88835ed31f2"
      },
      "execution_count": null,
      "outputs": [
        {
          "output_type": "execute_result",
          "data": {
            "text/plain": [
              "array([[ 5, 13],\n",
              "       [11, 29]])"
            ]
          },
          "metadata": {},
          "execution_count": 24
        }
      ]
    },
    {
      "cell_type": "markdown",
      "source": [
        "3. Write a Python Program to Transpose a Matrix?"
      ],
      "metadata": {
        "id": "kCwp3IaALBJT"
      }
    },
    {
      "cell_type": "code",
      "source": [
        "a = [[1,2],[3,4]]\n",
        "np.transpose(a)"
      ],
      "metadata": {
        "colab": {
          "base_uri": "https://localhost:8080/"
        },
        "id": "6bqROhoCHh2q",
        "outputId": "38b44599-afa5-46d6-ca91-fa625e3eb848"
      },
      "execution_count": null,
      "outputs": [
        {
          "output_type": "execute_result",
          "data": {
            "text/plain": [
              "array([[1, 3],\n",
              "       [2, 4]])"
            ]
          },
          "metadata": {},
          "execution_count": 25
        }
      ]
    },
    {
      "cell_type": "markdown",
      "source": [
        "4. Write a Python Program to Sort Words in Alphabetic Order?"
      ],
      "metadata": {
        "id": "VxVsSu3bLeAN"
      }
    },
    {
      "cell_type": "code",
      "source": [
        "my_str = input(\"Enter a string: \")  \n",
        "words = my_str.split()  \n",
        "words.sort()  \n",
        "for word in words:  \n",
        "  print(word) "
      ],
      "metadata": {
        "colab": {
          "base_uri": "https://localhost:8080/"
        },
        "id": "13d5RiC-LZmy",
        "outputId": "dfa50c4f-dae2-4d36-eb98-164e96cd2794"
      },
      "execution_count": null,
      "outputs": [
        {
          "output_type": "stream",
          "name": "stdout",
          "text": [
            "Enter a string: hello world Good morning\n",
            "Good\n",
            "hello\n",
            "morning\n",
            "world\n"
          ]
        }
      ]
    },
    {
      "cell_type": "markdown",
      "source": [
        "5. Write a Python Program to Remove Punctuation From a String?"
      ],
      "metadata": {
        "id": "SIbwlGSJPfhv"
      }
    },
    {
      "cell_type": "code",
      "source": [
        "punctuations = '''!()-[]{};:'\"\\,<>./?@#$%^&*_~'''\n",
        "no_pun = \"\"\n",
        "my_str = input(\"Enter a string: \")\n",
        "for i in my_str:\n",
        "  if i not in punctuations:\n",
        "    no_pun = no_pun + i  \n",
        "print(no_pun)"
      ],
      "metadata": {
        "id": "jcVs6it9NG18",
        "colab": {
          "base_uri": "https://localhost:8080/"
        },
        "outputId": "872153e2-b3a6-4edc-8cdd-d00428a9a091"
      },
      "execution_count": null,
      "outputs": [
        {
          "output_type": "stream",
          "name": "stdout",
          "text": [
            "Enter a string: #@^ ! @( { He&ll%%^^$$o\n",
            "    Hello\n"
          ]
        }
      ]
    },
    {
      "cell_type": "code",
      "source": [
        ""
      ],
      "metadata": {
        "id": "J6wGmFw5R-F9"
      },
      "execution_count": null,
      "outputs": []
    }
  ]
}