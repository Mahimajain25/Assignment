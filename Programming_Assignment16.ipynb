{
  "nbformat": 4,
  "nbformat_minor": 0,
  "metadata": {
    "colab": {
      "name": "Programming_Assignment16.ipynb",
      "provenance": []
    },
    "kernelspec": {
      "name": "python3",
      "display_name": "Python 3"
    },
    "language_info": {
      "name": "python"
    }
  },
  "cells": [
    {
      "cell_type": "markdown",
      "source": [
        "1. Write a function that stutters a word as if someone is struggling to read it. The\n",
        "first two letters are repeated twice with an ellipsis ... and space after each, and then the\n",
        "word is pronounced with a question mark ?.\n",
        "Examples\n",
        "stutter(&quot;incredible&quot;) ➞ &quot;in... in... incredible?&quot;\n",
        "stutter(&quot;enthusiastic&quot;) ➞ &quot;en... en... enthusiastic?&quot;\n",
        "stutter(&quot;outstanding&quot;) ➞ &quot;ou... ou... outstanding?&quot;  \n",
        "  Hint :- Assume all input is in lower case and at least two characters long."
      ],
      "metadata": {
        "id": "awazm30hxbgE"
      }
    },
    {
      "cell_type": "code",
      "execution_count": null,
      "metadata": {
        "colab": {
          "base_uri": "https://localhost:8080/",
          "height": 53
        },
        "id": "WV4b3dE-xX7u",
        "outputId": "054e9446-f7f0-4982-fb4e-3676c3e31364"
      },
      "outputs": [
        {
          "name": "stdout",
          "output_type": "stream",
          "text": [
            "Enter a string outstanding\n"
          ]
        },
        {
          "output_type": "execute_result",
          "data": {
            "text/plain": [
              "'ou...ou...outstanding?'"
            ],
            "application/vnd.google.colaboratory.intrinsic+json": {
              "type": "string"
            }
          },
          "metadata": {},
          "execution_count": 5
        }
      ],
      "source": [
        "def stutter():\n",
        "  x = input(\"Enter a string \")\n",
        "  x0 = x[0]\n",
        "  x1 = x[1]\n",
        "  x2 = x0 + x1 + \"...\"\n",
        "  q = '?'\n",
        "  new_x = (x2 * 2) + x + q\n",
        "  return new_x\n",
        "\n",
        "stutter()"
      ]
    },
    {
      "cell_type": "markdown",
      "source": [
        "2.Create a function that takes an angle in radians and returns the corresponding\n",
        "angle in degrees rounded to one decimal place.\n",
        "Examples\n",
        "radians_to_degrees(1) ➞ 57.3\n",
        "radians_to_degrees(20) ➞ 1145.9\n",
        "radians_to_degrees(50) ➞ 2864.8"
      ],
      "metadata": {
        "id": "RRtYvC23zsOa"
      }
    },
    {
      "cell_type": "code",
      "source": [
        "def radian_to_degree()->float:\n",
        "  x = int(input(\"Enter a radian : \"))\n",
        "  pi = 3.14159265\n",
        "  degrees = x * 180/pi\n",
        "  print(\"degree is \", degrees)\n",
        "  \n",
        "\n",
        "radian_to_degree()"
      ],
      "metadata": {
        "colab": {
          "base_uri": "https://localhost:8080/"
        },
        "id": "j8NvtDgCyerS",
        "outputId": "55c0ccd3-dc00-4657-c840-78fdc18b324a"
      },
      "execution_count": null,
      "outputs": [
        {
          "output_type": "stream",
          "name": "stdout",
          "text": [
            "Enter a radian : 1\n",
            "degree is  57.29577957855229\n"
          ]
        }
      ]
    },
    {
      "cell_type": "markdown",
      "source": [
        "3. In this challenge, establish if a given integer num is a Curzon number. If 1 plus\n",
        "2 elevated to num is exactly divisible by 1 plus 2 multiplied by num, then num is a Curzon\n",
        "number.\n",
        "Given a non-negative integer num, implement a function that returns True if num is a Curzon\n",
        "number, or False otherwise.\n",
        "Examples\n",
        "is_curzon(5) ➞ True\n",
        "2 ** 5 + 1 = 33\n",
        "2 * 5 + 1 = 11\n",
        "33 is a multiple of 11"
      ],
      "metadata": {
        "id": "U32N2PDk2IuZ"
      }
    },
    {
      "cell_type": "code",
      "source": [
        "import math\n",
        "def check_Curzon_no(x):\n",
        "  if(x < 0):\n",
        "   print(\"Please enter positive Integer\")\n",
        "  else:\n",
        "    x_add = math.pow(2,x) + 1\n",
        "    x_mul = (2*x) + 1\n",
        "    if (x_add % x_mul == 0):\n",
        "      print(True)\n",
        "    else:\n",
        "      print(False)\n",
        "\n",
        "\n",
        "x = int(input(\"Enter a number : \"))\n",
        "check_Curzon_no(x)"
      ],
      "metadata": {
        "colab": {
          "base_uri": "https://localhost:8080/"
        },
        "id": "cGI--yAH0sqr",
        "outputId": "0e5183c8-9540-458b-fb2a-9819567f17d0"
      },
      "execution_count": null,
      "outputs": [
        {
          "output_type": "stream",
          "name": "stdout",
          "text": [
            "Enter a number : 5\n",
            "True\n"
          ]
        }
      ]
    },
    {
      "cell_type": "markdown",
      "source": [
        "4.Given the side length x find the area of a hexagon.\n",
        "Example: area_of_hexagon(2) ➞ 10.4"
      ],
      "metadata": {
        "id": "5jvYcoFl6FB7"
      }
    },
    {
      "cell_type": "code",
      "source": [
        "import math\n",
        "def area_of_hexagon(x):\n",
        "  area_hexa = ((3*math.sqrt(3)) * x*2)/2\n",
        "  return area_hexa\n",
        "x = int(input(\"Enter a Length : \"))\n",
        "print(\"Area of Hexagon is \",area_of_hexagon(x))"
      ],
      "metadata": {
        "colab": {
          "base_uri": "https://localhost:8080/"
        },
        "id": "g0vEUHT-3-_N",
        "outputId": "d0070a46-646e-4815-e60b-edda1cdb9828"
      },
      "execution_count": null,
      "outputs": [
        {
          "output_type": "stream",
          "name": "stdout",
          "text": [
            "Enter a Length : 2\n",
            "Area of Hexagon is  10.392304845413264\n"
          ]
        }
      ]
    },
    {
      "cell_type": "markdown",
      "source": [
        "5. Create a function that returns a base-2 (binary) representation of a base-10\n",
        "(decimal) string number. To convert is simple: ((2) means base-2 and (10) means base-10)\n",
        "010101001(2) = 1 + 8 + 32 + 128.\n",
        "Going from right to left, the value of the most right bit is 1, now from that every bit to the left\n",
        "will be x2 the value, value of an 8 bit binary numbers are (256, 128, 64, 32, 16, 8, 4, 2, 1).\n",
        "Examples\n",
        "binary(1) ➞  1*1 = 1 ,\n",
        "binary(5) ➞ &quot;101&quot; ,\n",
        "1*1 + 1*4 = 5 , \n",
        "binary(10) ➞ &quot;1010&quot; "
      ],
      "metadata": {
        "id": "I1s15TNF9nq7"
      }
    },
    {
      "cell_type": "code",
      "source": [
        "def decimalToBinary(n):\n",
        "    return bin(n).replace(\"0b\", \"\")\n",
        "\n",
        "x = int(input(\"Enter a number : \"))\n",
        "print(decimalToBinary(x))\n"
      ],
      "metadata": {
        "colab": {
          "base_uri": "https://localhost:8080/"
        },
        "id": "zTdm_aHq9OF4",
        "outputId": "7c0a3f49-c54b-4b48-f191-f06d99377df8"
      },
      "execution_count": null,
      "outputs": [
        {
          "output_type": "stream",
          "name": "stdout",
          "text": [
            "Enter a number : 10\n",
            "1010\n"
          ]
        }
      ]
    },
    {
      "cell_type": "code",
      "source": [
        ""
      ],
      "metadata": {
        "id": "Ua--qdKz_PeL"
      },
      "execution_count": null,
      "outputs": []
    }
  ]
}