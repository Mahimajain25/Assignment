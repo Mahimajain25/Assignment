{
  "nbformat": 4,
  "nbformat_minor": 0,
  "metadata": {
    "colab": {
      "name": "Programming_Assignment24.ipynb",
      "provenance": []
    },
    "kernelspec": {
      "name": "python3",
      "display_name": "Python 3"
    },
    "language_info": {
      "name": "python"
    }
  },
  "cells": [
    {
      "cell_type": "markdown",
      "source": [
        "1. Create a function that takes an integer and returns a list from 1 to the given number, where:\n",
        "1. If the number can be divided evenly by 4, amplify it by 10 (i.e. return 10 times the\n",
        "number).\n",
        "2. If the number cannot be divided evenly by 4, simply return the number.\n",
        "Examples\n",
        "amplify(4) ➞ [1, 2, 3, 40]\n",
        "amplify(3) ➞ [1, 2, 3]\n",
        "amplify(25) ➞ [1, 2, 3, 40, 5, 6, 7, 80, 9, 10, 11, 120, 13, 14, 15, 160,\n",
        "17, 18, 19, 200, 21, 22, 23, 240, 25]"
      ],
      "metadata": {
        "id": "8WsGm959GWUD"
      }
    },
    {
      "cell_type": "code",
      "execution_count": null,
      "metadata": {
        "colab": {
          "base_uri": "https://localhost:8080/"
        },
        "id": "7Ns41-qSGSku",
        "outputId": "62c3ba7b-5f02-4af7-a702-d1dc46240178"
      },
      "outputs": [
        {
          "output_type": "stream",
          "name": "stdout",
          "text": [
            "n is 4 and amplify list is [1, 2, 3, 40]\n",
            "n is 3 and amplify list is [1, 2, 3]\n",
            "n is 25 and amplify list is [1, 2, 3, 40, 5, 6, 7, 80, 9, 10, 11, 120, 13, 14, 15, 160, 17, 18, 19, 200, 21, 22, 23, 240, 25]\n"
          ]
        }
      ],
      "source": [
        "def amplify(n):\n",
        "  l = []\n",
        "  for i in range(1,n+1):\n",
        "    if (i%4!=0):\n",
        "      l.append(i)\n",
        "    else:\n",
        "     l.append(i*10)\n",
        "  return l\n",
        "\n",
        "n1 = 4\n",
        "n2 = 3\n",
        "n3 = 25\n",
        "\n",
        "print('n is {} and amplify list is {}'.format(n1,amplify(n1)))\n",
        "print('n is {} and amplify list is {}'.format(n2,amplify(n2)))\n",
        "print('n is {} and amplify list is {}'.format(n3,amplify(n3)))\n"
      ]
    },
    {
      "cell_type": "markdown",
      "source": [
        ""
      ],
      "metadata": {
        "id": "RYmdBa8aQAAI"
      }
    },
    {
      "cell_type": "markdown",
      "source": [
        "2. Create a function that takes a list of numbers and return the number that&#39;s unique.\n",
        "Examples\n",
        "unique([3, 3, 3, 7, 3, 3]) ➞ 7\n",
        "unique([0, 0, 0.77, 0, 0]) ➞ 0.77\n",
        "unique([0, 1, 1, 1, 1, 1, 1, 1]) ➞ 0"
      ],
      "metadata": {
        "id": "BiuLG9w4Njqg"
      }
    },
    {
      "cell_type": "code",
      "source": [
        "def unique(l):\n",
        "  for i in l:\n",
        "    if(l.count(i) == 1):\n",
        "       return i\n",
        "l1 = [3, 3, 3, 7, 3, 3]\n",
        "l2 = [0, 0, 0.77, 0, 0]\n",
        "l3 = [0, 1, 1, 1, 1, 1, 1, 1]\n",
        "\n",
        "print('List is {}, Unique value in list is {}'.format(l1,unique(l1)))\n",
        "print('List is {}, Unique value in list is {}'.format(l2,unique(l2)))\n",
        "print('List is {}, Unique value in list is {}'.format(l3,unique(l3)))"
      ],
      "metadata": {
        "colab": {
          "base_uri": "https://localhost:8080/"
        },
        "id": "jY7ZM3XKLRE7",
        "outputId": "e42b6855-30f4-4221-9d67-9b1c9888a09f"
      },
      "execution_count": null,
      "outputs": [
        {
          "output_type": "stream",
          "name": "stdout",
          "text": [
            "List is [3, 3, 3, 7, 3, 3], Unique value in list is 7\n",
            "List is [0, 0, 0.77, 0, 0], Unique value in list is 0.77\n",
            "List is [0, 1, 1, 1, 1, 1, 1, 1], Unique value in list is 0\n"
          ]
        }
      ]
    },
    {
      "cell_type": "markdown",
      "source": [
        "3. Your task is to create a Circle constructor that creates a circle with a radius provided by an\n",
        "argument. The circles constructed must have two getters getArea() (PIr^2) and\n",
        "getPerimeter() (2PI*r) which give both respective areas and perimeter (circumference).\n",
        "\n",
        "For help with this class, I have provided you with a Rectangle constructor which you can use\n",
        "as a base example.\n",
        "Examples\n",
        "circy = Circle(11)\n",
        "circy.getArea()\n",
        "Should return 380.132711084365\n",
        "circy = Circle(4.44)\n",
        "circy.getPerimeter()\n",
        "Should return 27.897342763877365"
      ],
      "metadata": {
        "id": "-5BihjlNQdK2"
      }
    },
    {
      "cell_type": "code",
      "source": [
        "class Circle():\n",
        "    def __init__(self, r):\n",
        "        self.radius = r\n",
        "\n",
        "    def getArea(self):\n",
        "        return round(self.radius**2*3.14)\n",
        "    \n",
        "    def getPerimeter(self):\n",
        "        return round(2*self.radius*3.14)\n",
        "\n",
        "circy = Circle(11)\n",
        "print(circy.getArea())\n",
        "\n",
        "\n",
        "circy = Circle(4.44)\n",
        "print(circy.getPerimeter())"
      ],
      "metadata": {
        "colab": {
          "base_uri": "https://localhost:8080/"
        },
        "id": "KeYLpVeIObdK",
        "outputId": "5182a5a4-29ca-4658-957e-0737a69f0d4d"
      },
      "execution_count": null,
      "outputs": [
        {
          "output_type": "stream",
          "name": "stdout",
          "text": [
            "380\n",
            "28\n"
          ]
        }
      ]
    },
    {
      "cell_type": "markdown",
      "source": [
        "4. Create a function that takes a list of strings and return a list, sorted from shortest to longest.\n",
        "Examples\n",
        "sort_by_length([&quot;Google&quot;, &quot;Apple&quot;, &quot;Microsoft&quot;])\n",
        "➞ [&quot;Apple&quot;, &quot;Google&quot;, &quot;Microsoft&quot;]\n",
        "sort_by_length([&quot;Leonardo&quot;, &quot;Michelangelo&quot;, &quot;Raphael&quot;, &quot;Donatello&quot;])\n",
        "➞ [&quot;Raphael&quot;, &quot;Leonardo&quot;, &quot;Donatello&quot;, &quot;Michelangelo&quot;]\n",
        "sort_by_length([&quot;Turing&quot;, &quot;Einstein&quot;, &quot;Jung&quot;])\n",
        "➞ [&quot;Jung&quot;, &quot;Turing&quot;, &quot;Einstein&quot;]\n",
        "Notes\n",
        "All test cases contain lists with strings of different lengths, so you won&#39;t have to deal with\n",
        "multiple strings of the same length."
      ],
      "metadata": {
        "id": "sVzif6pxZTOF"
      }
    },
    {
      "cell_type": "code",
      "source": [
        "def sort_by_length(l):\n",
        "    return sorted(l, key = len)\n",
        "\n",
        "l1 = [\"Google\", \"Apple\", \"Microsoft\"]\n",
        "l2 = [\"Leonardo\", \"Michelangelo\", \"Raphael\", \"Donatello\"]\n",
        "l3 = [\"Turing\", \"Einstein\", \"Jung\"]\n",
        "print(sort_by_length(l1))\n",
        "print(sort_by_length(l2) )\n",
        "print(sort_by_length(l3) )"
      ],
      "metadata": {
        "colab": {
          "base_uri": "https://localhost:8080/"
        },
        "id": "w_8X0YjCY6Nu",
        "outputId": "b70ea141-04e3-41fa-db48-8bae43ee3e91"
      },
      "execution_count": null,
      "outputs": [
        {
          "output_type": "stream",
          "name": "stdout",
          "text": [
            "['Apple', 'Google', 'Microsoft']\n",
            "['Raphael', 'Leonardo', 'Donatello', 'Michelangelo']\n",
            "['Jung', 'Turing', 'Einstein']\n"
          ]
        }
      ]
    },
    {
      "cell_type": "markdown",
      "source": [
        "5. Create a function that validates whether three given integers form a Pythagorean triplet. The\n",
        "sum of the squares of the two smallest integers must equal the square of the largest number to\n",
        "be validated.\n",
        "\n",
        "Examples\n",
        "is_triplet(3, 4, 5) ➞ True\n",
        "3² + 4² = 25\n",
        "5² = 25\n",
        "is_triplet(13, 5, 12) ➞ True\n",
        "5² + 12² = 169\n",
        "13² = 169\n",
        "is_triplet(1, 2, 3) ➞ False\n",
        "1² + 2² = 5\n",
        "3² = 9\n",
        "Notes\n",
        "Numbers may not be given in a sorted order."
      ],
      "metadata": {
        "id": "TkkEw-xCaqaT"
      }
    },
    {
      "cell_type": "code",
      "source": [
        "def is_triplet(a,b,c):\n",
        "    l = []\n",
        "    l.extend((a,b,c))\n",
        "    l = sorted(l)\n",
        "\n",
        "    if l[0]**2 + l[1]**2 == l[2]**2:\n",
        "        return True\n",
        "    else:\n",
        "        return False\n",
        "\n",
        "print(\"3, 4, 5 is Triplet ? \", is_triplet(3, 4, 5))\n",
        "print(\"13, 5, 12 is Triplet ? \",is_triplet(13, 5, 12))\n",
        "print(\"1, 2, 3 is Triplet ? \", is_triplet(1, 2, 3))"
      ],
      "metadata": {
        "colab": {
          "base_uri": "https://localhost:8080/"
        },
        "id": "rkRu0MF8ZgmR",
        "outputId": "60bdc5aa-c648-46f3-bcce-15902fe6205b"
      },
      "execution_count": null,
      "outputs": [
        {
          "output_type": "stream",
          "name": "stdout",
          "text": [
            "3, 4, 5 is Triplet ?  True\n",
            "13, 5, 12 is Triplet ?  True\n",
            "1, 2, 3 is Triplet ?  False\n"
          ]
        }
      ]
    },
    {
      "cell_type": "code",
      "source": [
        ""
      ],
      "metadata": {
        "id": "mi2mwD_2bJd0"
      },
      "execution_count": null,
      "outputs": []
    }
  ]
}