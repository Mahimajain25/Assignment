{
  "nbformat": 4,
  "nbformat_minor": 0,
  "metadata": {
    "colab": {
      "name": "Programming Assignment 5.ipynb",
      "provenance": [],
      "collapsed_sections": []
    },
    "kernelspec": {
      "name": "python3",
      "display_name": "Python 3"
    },
    "language_info": {
      "name": "python"
    }
  },
  "cells": [
    {
      "cell_type": "markdown",
      "source": [
        "1. Write a Python Program to Find LCM?"
      ],
      "metadata": {
        "id": "oRhwT9pWAaej"
      }
    },
    {
      "cell_type": "code",
      "source": [
        "def calculate_lcm(x, y):  \n",
        "    if x > y:  \n",
        "        greater = x  \n",
        "    else:  \n",
        "        greater = y  \n",
        "    while(True):  \n",
        "        if((greater % x == 0) and (greater % y == 0)):  \n",
        "            lcm = greater  \n",
        "            break  \n",
        "        greater += 1  \n",
        "    return lcm    \n",
        "  \n",
        "num1 = int(input(\"Enter first number: \"))  \n",
        "num2 = int(input(\"Enter second number: \"))  \n",
        "print(\"The L.C.M. of\", num1,\"and\", num2,\"is\", calculate_lcm(num1, num2))  "
      ],
      "metadata": {
        "colab": {
          "base_uri": "https://localhost:8080/"
        },
        "id": "Jij9f_beAiII",
        "outputId": "cdf75b54-fda7-4b5e-8b23-fbca85e0e114"
      },
      "execution_count": null,
      "outputs": [
        {
          "output_type": "stream",
          "name": "stdout",
          "text": [
            "Enter first number: 4\n",
            "Enter second number: 6\n",
            "The L.C.M. of 4 and 6 is 12\n"
          ]
        }
      ]
    },
    {
      "cell_type": "markdown",
      "source": [
        "2. Write a Python Program to Find HCF?"
      ],
      "metadata": {
        "id": "1VGgsMoGEKp3"
      }
    },
    {
      "cell_type": "code",
      "source": [
        "def calculate_hcf(x, y):  \n",
        "    if x > y:  \n",
        "        smaller = y  \n",
        "    else:  \n",
        "        smaller = x  \n",
        "    for i in range(1,smaller + 1):  \n",
        "        if((x % i == 0) and (y % i == 0)):  \n",
        "            hcf = i  \n",
        "    return hcf  \n",
        "  \n",
        "num1 = int(input(\"Enter first number: \"))  \n",
        "num2 = int(input(\"Enter second number: \"))  \n",
        "print(\"The H.C.F. of\", num1,\"and\", num2,\"is\", calculate_hcf(num1, num2))  \n"
      ],
      "metadata": {
        "colab": {
          "base_uri": "https://localhost:8080/"
        },
        "id": "i4VHJhbGCHiY",
        "outputId": "17876beb-8bea-4474-e93c-d8bf177441cd"
      },
      "execution_count": null,
      "outputs": [
        {
          "output_type": "stream",
          "name": "stdout",
          "text": [
            "Enter first number: 8\n",
            "Enter second number: 12\n",
            "The H.C.F. of 8 and 12 is 4\n"
          ]
        }
      ]
    },
    {
      "cell_type": "markdown",
      "source": [
        "3. Write a Python Program to Convert Decimal to Binary, Octal and Hexadecimal?"
      ],
      "metadata": {
        "id": "7Op-8EeJFRWh"
      }
    },
    {
      "cell_type": "code",
      "source": [
        "num = int(input(\"Enter the number \"))\n",
        "def dec_binary(num):\n",
        "  bin1 = bin(num)\n",
        "  print(\"Entered num is\",num,\"binary num is\",bin1)\n",
        "\n",
        "def dec_octal(num):\n",
        "  octal = oct(num)\n",
        "  print(\"Entered num is\",num,\"Octal num is\",octal)\n",
        "\n",
        "def dec_hexa(num):\n",
        "  hexa = hex(num)\n",
        "  print(\"Entered num is\",num,\"hexadecimal num is\",hexa)\n",
        "\n",
        "### Call Function \n",
        "dec_binary(num)\n",
        "dec_octal(num)\n",
        "dec_hexa(num)"
      ],
      "metadata": {
        "id": "5z8eiQ8zC-p1",
        "colab": {
          "base_uri": "https://localhost:8080/"
        },
        "outputId": "6ddaad63-29e3-4fa5-d869-e1f92f38d05a"
      },
      "execution_count": null,
      "outputs": [
        {
          "output_type": "stream",
          "name": "stdout",
          "text": [
            "Enter the number 25\n",
            "Entered num is 25 binary num is 0b11001\n",
            "Entered num is 25 Octal num is 0o31\n",
            "Entered num is 25 hexadecimal num is 0x19\n"
          ]
        }
      ]
    },
    {
      "cell_type": "markdown",
      "source": [
        "4.Write a Python Program To Find ASCII value of a character?\n"
      ],
      "metadata": {
        "id": "CdxxItv8GM48"
      }
    },
    {
      "cell_type": "code",
      "source": [
        "#### Single Character ######\n",
        "input_String = input(\"Enter the Character/Single Letter \")\n",
        "Ascii = ord(input_String)\n",
        "print(\"Entered Character is\", input_String,\"and ASCII value is\", Ascii)\n"
      ],
      "metadata": {
        "id": "iLrIB8mBDJbp",
        "colab": {
          "base_uri": "https://localhost:8080/"
        },
        "outputId": "ac2ffaf3-d4ed-496e-e786-ebfde3d948f8"
      },
      "execution_count": null,
      "outputs": [
        {
          "output_type": "stream",
          "name": "stdout",
          "text": [
            "Enter the Character/Single Letter M\n",
            "Entered Character is M and ASCII value is 77\n"
          ]
        }
      ]
    },
    {
      "cell_type": "code",
      "source": [
        "###### Multiple Character ########\n",
        "input_String = input(\"Enter the  list of Character \")\n",
        "for i in input_String :\n",
        "  Ascii = ord(i)\n",
        "  print(\"Character\",i,\"ASCII value\",Ascii)"
      ],
      "metadata": {
        "id": "zVcXJZRZIECN",
        "colab": {
          "base_uri": "https://localhost:8080/"
        },
        "outputId": "37bacee9-3d82-4ae9-9e28-8a392d99dd30"
      },
      "execution_count": null,
      "outputs": [
        {
          "output_type": "stream",
          "name": "stdout",
          "text": [
            "Enter the  list of Character AWESOME\n",
            "Character A ASCII value 65\n",
            "Character W ASCII value 87\n",
            "Character E ASCII value 69\n",
            "Character S ASCII value 83\n",
            "Character O ASCII value 79\n",
            "Character M ASCII value 77\n",
            "Character E ASCII value 69\n"
          ]
        }
      ]
    },
    {
      "cell_type": "markdown",
      "source": [
        "5. Write a Python Program to Make a Simple Calculator with 4 basic mathematical operations?"
      ],
      "metadata": {
        "id": "b4eM7wIOUO0u"
      }
    },
    {
      "cell_type": "code",
      "source": [
        "num1 = int(input(\"Enter the first number\"))\n",
        "num2 = int(input(\"Enter the second number\"))\n",
        "def mathemactical_operation(num1,num2):\n",
        "  # Addition\n",
        "  Additions = num1 + num2 \n",
        "  Subtraction = num1 - num2\n",
        "  Multiplication = num1 * num2\n",
        "  Division  = num1/num2\n",
        "  \n",
        "  print(\"\\nAddtion of\",num1,\"and\",num2,\"=\",Additions)\n",
        "  print(\"Subtraction of\",num1,\"and\",num2,\"=\",Subtraction)\n",
        "  print(\"Multiplication of\",num1,\"and\",num2,\"=\",Multiplication)\n",
        "  print(\"Division of\",num1,\"and\",num2,\"=\",Division)\n",
        "\n",
        "mathemactical_operation(num1,num2)"
      ],
      "metadata": {
        "colab": {
          "base_uri": "https://localhost:8080/"
        },
        "id": "lgPdWA7aTEwK",
        "outputId": "07ad9075-10f6-446c-dbe7-85cc7d1c8ced"
      },
      "execution_count": null,
      "outputs": [
        {
          "output_type": "stream",
          "name": "stdout",
          "text": [
            "Enter the first number20\n",
            "Enter the second number2\n",
            "\n",
            "Addtion of 20 and 2 = 22\n",
            "Subtraction of 20 and 2 = 18\n",
            "Multiplication of 20 and 2 = 40\n",
            "Division of 20 and 2 = 10.0\n"
          ]
        }
      ]
    },
    {
      "cell_type": "code",
      "source": [
        ""
      ],
      "metadata": {
        "id": "KmclZF7qXXi7"
      },
      "execution_count": null,
      "outputs": []
    }
  ]
}