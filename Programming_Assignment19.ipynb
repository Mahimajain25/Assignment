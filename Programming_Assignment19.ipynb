{
  "nbformat": 4,
  "nbformat_minor": 0,
  "metadata": {
    "colab": {
      "name": "Programming_Assignment19.ipynb",
      "provenance": []
    },
    "kernelspec": {
      "name": "python3",
      "display_name": "Python 3"
    },
    "language_info": {
      "name": "python"
    }
  },
  "cells": [
    {
      "cell_type": "markdown",
      "source": [
        "1. Create a function that takes a string and returns a string in which each character is repeated\n",
        "once.\n",
        "Examples\n",
        "double_char(&quot;String&quot;) ➞ &quot;SSttrriinngg&quot;\n",
        "double_char(&quot;Hello World!&quot;) ➞ &quot;HHeelllloo WWoorrlldd!!&quot;\n",
        "double_char(&quot;1234!_ &quot;) ➞ &quot;11223344!!__ &quot;"
      ],
      "metadata": {
        "id": "EGO04z5CzRfb"
      }
    },
    {
      "cell_type": "code",
      "execution_count": null,
      "metadata": {
        "colab": {
          "base_uri": "https://localhost:8080/"
        },
        "id": "xkBFy3-MzOPJ",
        "outputId": "b631e415-6f7c-4471-9a4f-1b6a6f9a1a7c"
      },
      "outputs": [
        {
          "output_type": "stream",
          "name": "stdout",
          "text": [
            "Orignal String s1 is  String Double_char string is  SSttrriinngg\n",
            "Orignal String s2 is  Hello World! Double_char string is  HHeelllloo  WWoorrlldd!!\n",
            "Orignal String s3 is  1234!_  Double_char string is  11223344!!__  \n"
          ]
        }
      ],
      "source": [
        "def double_char(s):\n",
        "  double_char = \"\"\n",
        "  for i in range(len(s)):\n",
        "    double_char = double_char + (s[i]*2)\n",
        "  return double_char\n",
        "\n",
        "s1 = \"String\"\n",
        "s2 = \"Hello World!\"\n",
        "s3 = \"1234!_ \"\n",
        "print(\"Orignal String s1 is \",s1,\"Double_char string is \",double_char(s1))\n",
        "print(\"Orignal String s2 is \",s2,\"Double_char string is \",double_char(s2))\n",
        "print(\"Orignal String s3 is \",s3,\"Double_char string is \",double_char(s3))"
      ]
    },
    {
      "cell_type": "markdown",
      "source": [
        "2. Create a function that reverses a boolean value and returns the string &quot;boolean expected&quot;\n",
        "if another variable type is given.\n",
        "Examples\n",
        "reverse(True) ➞ False\n",
        "reverse(False) ➞ True\n",
        "reverse(0) ➞ &quot;boolean expected&quot;\n",
        "reverse(None) ➞ &quot;boolean expected&quot;"
      ],
      "metadata": {
        "id": "D2QUD0E0hhzB"
      }
    },
    {
      "cell_type": "code",
      "source": [
        "def reverse(t):\n",
        "  if(type(t) == bool):\n",
        "    if t == True:\n",
        "      return False\n",
        "    else:\n",
        "      return True\n",
        "  else:\n",
        "    return \"Boolean expected\"\n",
        "\n",
        "print(reverse(True))\n",
        "print(reverse(False))\n",
        "print(reverse(0))\n",
        "print(reverse(None))"
      ],
      "metadata": {
        "colab": {
          "base_uri": "https://localhost:8080/"
        },
        "id": "yetkVPfDgJ2D",
        "outputId": "1f6476e1-11e4-4d2e-f46a-a51e653588ce"
      },
      "execution_count": null,
      "outputs": [
        {
          "output_type": "stream",
          "name": "stdout",
          "text": [
            "False\n",
            "True\n",
            "Boolean expected\n",
            "Boolean expected\n"
          ]
        }
      ]
    },
    {
      "cell_type": "markdown",
      "source": [
        "3. Create a function that returns the thickness (in meters) of a piece of paper after folding it n\n",
        "number of times. The paper starts off with a thickness of 0.5mm.\n",
        "Examples\n",
        "num_layers(1) ➞ &quot;0.001m&quot;\n",
        "Paper folded once is 1mm (equal to 0.001m)\n",
        "num_layers(4) ➞ &quot;0.008m&quot;\n",
        "Paper folded 4 times is 8mm (equal to 0.008m)\n",
        "num_layers(21) ➞ &quot;1048.576m&quot;\n",
        "Paper folded 21 times is 1048576mm (equal to 1048.576m)"
      ],
      "metadata": {
        "id": "37mnekF-k_wN"
      }
    },
    {
      "cell_type": "code",
      "source": [
        "def num_layer(fold):\n",
        "  thickness = 0.5\n",
        "  for i in range(fold):\n",
        "    thickness = thickness * 2\n",
        "  return thickness/1000 \n",
        "\n",
        "print(num_layer(1))\n",
        "print(num_layer(4))\n",
        "print(num_layer(21))"
      ],
      "metadata": {
        "colab": {
          "base_uri": "https://localhost:8080/"
        },
        "id": "iwaHCDAgi1vF",
        "outputId": "6ef67a8f-439e-42d6-8ea9-ac6f7dde3c95"
      },
      "execution_count": null,
      "outputs": [
        {
          "output_type": "stream",
          "name": "stdout",
          "text": [
            "0.001\n",
            "0.008\n",
            "1048.576\n"
          ]
        }
      ]
    },
    {
      "cell_type": "markdown",
      "source": [
        "4. Create a function that takes a single string as argument and returns an ordered list containing\n",
        "the indices of all capital letters in the string.\n",
        "Examples\n",
        "index_of_caps(&quot;eDaBiT&quot;) ➞ [1, 3, 5]\n",
        "index_of_caps(&quot;eQuINoX&quot;) ➞ [1, 3, 4, 6]\n",
        "index_of_caps(&quot;determine&quot;) ➞ []\n",
        "index_of_caps(&quot;STRIKE&quot;) ➞ [0, 1, 2, 3, 4, 5]\n",
        "index_of_caps(&quot;sUn&quot;) ➞ [1]"
      ],
      "metadata": {
        "id": "dujd-EmKohXA"
      }
    },
    {
      "cell_type": "code",
      "source": [
        "def index_of_caps(s):\n",
        "  index = []\n",
        "  for i in range(len(s)):\n",
        "    if (s[i].isupper()):\n",
        "      index.append(i)\n",
        "  return index\n",
        "\n",
        "s1 = \"eDaBiT\"\n",
        "s2 = \"eQuINoX\"\n",
        "s3 = \"determine\"\n",
        "s4 = \"STRIKE\"\n",
        "s5 = \"sUn\"\n",
        "print(s1, \"Capital index\" ,index_of_caps(s1))\n",
        "print(s2, \"Capital index\" ,index_of_caps(s2))\n",
        "print(s3, \"Capital index\" ,index_of_caps(s3))\n",
        "print(s4, \"Capital index\" ,index_of_caps(s4))\n",
        "print(s5, \"Capital index\" ,index_of_caps(s5))"
      ],
      "metadata": {
        "colab": {
          "base_uri": "https://localhost:8080/"
        },
        "id": "5pxHG-Fli5Ps",
        "outputId": "c4cc16b5-c018-4446-e717-e0f570f3394d"
      },
      "execution_count": null,
      "outputs": [
        {
          "output_type": "stream",
          "name": "stdout",
          "text": [
            "eDaBiT Capital index [1, 3, 5]\n",
            "eQuINoX Capital index [1, 3, 4, 6]\n",
            "determine Capital index []\n",
            "STRIKE Capital index [0, 1, 2, 3, 4, 5]\n",
            "sUn Capital index [1]\n"
          ]
        }
      ]
    },
    {
      "cell_type": "markdown",
      "source": [
        "5. Using list comprehensions, create a function that finds all even numbers from 1 to the given\n",
        "number.\n",
        "Examples\n",
        "find_even_nums(8) ➞ [2, 4, 6, 8]\n",
        "find_even_nums(4) ➞ [2, 4]\n",
        "find_even_nums(2) ➞ [2]"
      ],
      "metadata": {
        "id": "3Hqly_dYq4IR"
      }
    },
    {
      "cell_type": "code",
      "source": [
        "def find_even_number(x):\n",
        "  l = []\n",
        "  for i in range(2,x+1):\n",
        "    if(i%2==0):\n",
        "      l.append(i)\n",
        "  return l\n",
        "\n",
        "(find_even_number(8))\n",
        "(find_even_number(4))\n",
        "print(find_even_number(2))\n",
        "\n"
      ],
      "metadata": {
        "colab": {
          "base_uri": "https://localhost:8080/"
        },
        "id": "MYfTKm3fnPMW",
        "outputId": "1f1e296a-b835-457c-c8d2-09a86a746b41"
      },
      "execution_count": null,
      "outputs": [
        {
          "output_type": "execute_result",
          "data": {
            "text/plain": [
              "[2]"
            ]
          },
          "metadata": {},
          "execution_count": 34
        }
      ]
    },
    {
      "cell_type": "code",
      "source": [
        ""
      ],
      "metadata": {
        "id": "joKVYMKprbKy"
      },
      "execution_count": null,
      "outputs": []
    }
  ]
}