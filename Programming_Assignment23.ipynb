{
  "nbformat": 4,
  "nbformat_minor": 0,
  "metadata": {
    "colab": {
      "name": "Programming_Assignment23.ipynb",
      "provenance": []
    },
    "kernelspec": {
      "name": "python3",
      "display_name": "Python 3"
    },
    "language_info": {
      "name": "python"
    }
  },
  "cells": [
    {
      "cell_type": "markdown",
      "source": [
        "1. Create a function that takes a number as an argument and returns True or False depending\n",
        "on whether the number is symmetrical or not. A number is symmetrical when it is the same as\n",
        "its reverse.\n",
        "Examples\n",
        "is_symmetrical(7227) ➞ True\n",
        "is_symmetrical(12567) ➞ False\n",
        "is_symmetrical(44444444) ➞ True"
      ],
      "metadata": {
        "id": "l0O1efw1dUxa"
      }
    },
    {
      "cell_type": "code",
      "execution_count": null,
      "metadata": {
        "colab": {
          "base_uri": "https://localhost:8080/"
        },
        "id": "3i2BG1p1dSgJ",
        "outputId": "471dc622-0765-4927-a42a-aaa31e666280"
      },
      "outputs": [
        {
          "output_type": "stream",
          "name": "stdout",
          "text": [
            "7227 is symmetric ? True\n",
            "12567 is symmetric ? False\n",
            "4444444 is symmetric ? True\n"
          ]
        }
      ],
      "source": [
        "def is_symmetrical(n):\n",
        "  n = str(n)\n",
        "  rev_n = n[::-1]\n",
        "  if rev_n == n :\n",
        "    return True\n",
        "  else:\n",
        "    return False\n",
        "\n",
        "n1= 7227\n",
        "n2 = 12567\n",
        "n3 = 4444444\n",
        "print(n1, \"is symmetric ?\",is_symmetrical(n1))\n",
        "print(n2, \"is symmetric ?\",is_symmetrical(n2))\n",
        "print(n3, \"is symmetric ?\",is_symmetrical(n3))"
      ]
    },
    {
      "cell_type": "markdown",
      "source": [
        "2. Given a string of numbers separated by a comma and space, return the product of the\n",
        "numbers.\n",
        "Examples\n",
        "multiply_nums(&quot;2, 3&quot;) ➞ 6\n",
        "multiply_nums(&quot;1, 2, 3, 4&quot;) ➞ 24\n",
        "multiply_nums(&quot;54, 75, 453, 0&quot;) ➞ 0\n",
        "multiply_nums(&quot;10, -2&quot;) ➞ -20"
      ],
      "metadata": {
        "id": "TQ6CJpOy4Lg1"
      }
    },
    {
      "cell_type": "code",
      "source": [
        "def multiply_nums(n):\n",
        "  n = n.split(',')\n",
        "  mul = 1\n",
        "  for i in range(len(n)):\n",
        "      mul = int(n[i]) * mul\n",
        "  return mul\n",
        "\n",
        "n1 = (\"2,3\")\n",
        "n2 = (\"1,2,3,4\")\n",
        "n3 = (\"54,75,453,0\")\n",
        "n4 = (\"10,-2\")\n",
        "\n",
        "print('Multiplication of {} is {}'.format(n1,multiply_nums(n1)))\n",
        "print('Multiplication of {} is {}'.format(n2,multiply_nums(n2)))\n",
        "print('Multiplication of {} is {}'.format(n3,multiply_nums(n3)))\n",
        "print('Multiplication of {} is {}'.format(n4,multiply_nums(n4)))\n",
        "\n"
      ],
      "metadata": {
        "colab": {
          "base_uri": "https://localhost:8080/"
        },
        "id": "fsAUYGFF2hVy",
        "outputId": "69efd5e0-a90b-45fa-d85b-d83c64458309"
      },
      "execution_count": null,
      "outputs": [
        {
          "output_type": "stream",
          "name": "stdout",
          "text": [
            "Multiplication of 2,3 is 6\n",
            "Multiplication of 1,2,3,4 is 24\n",
            "Multiplication of 54,75,453,0 is 0\n",
            "Multiplication of 10,-2 is -20\n"
          ]
        }
      ]
    },
    {
      "cell_type": "markdown",
      "source": [
        "3. Create a function that squares every digit of a number.\n",
        "Examples\n",
        "square_digits(9119) ➞ 811181\n",
        "square_digits(2483) ➞ 416649\n",
        "square_digits(3212) ➞ 9414\n",
        "Notes\n",
        "The function receives an integer and must return an integer."
      ],
      "metadata": {
        "id": "_JFwzhcj_ttV"
      }
    },
    {
      "cell_type": "code",
      "source": [
        "def square_digits(num):\n",
        "    z = ''.join(str(int(i)**2) for i in str(num))\n",
        "    return int(z)\n",
        "\n",
        "n1 = 9119\n",
        "n2 = 2483\n",
        "n3 = 3212\n",
        "\n",
        "print('Square of each digit {} is {}'.format(n1,square_digits(n1)))\n",
        "print('Square of each digit {} is {}'.format(n2,square_digits(n2)))\n",
        "print('Square of each digit {} is {}'.format(n3,square_digits(n3)))"
      ],
      "metadata": {
        "colab": {
          "base_uri": "https://localhost:8080/"
        },
        "id": "tvTQPHvd-_mA",
        "outputId": "34becaa8-a304-4c75-e541-e1d5ff874e4d"
      },
      "execution_count": null,
      "outputs": [
        {
          "output_type": "stream",
          "name": "stdout",
          "text": [
            "Square of each digit 9119 is 811181\n",
            "Square of each digit 2483 is 416649\n",
            "Square of each digit 3212 is 9414\n"
          ]
        }
      ]
    },
    {
      "cell_type": "markdown",
      "source": [
        "4. Create a function that sorts a list and removes all duplicate items from it.\n",
        "Examples\n",
        "setify([1, 3, 3, 5, 5]) ➞ [1, 3, 5]\n",
        "setify([4, 4, 4, 4]) ➞ [4]\n",
        "setify([5, 7, 8, 9, 10, 15]) ➞ [5, 7, 8, 9, 10, 15]\n",
        "setify([3, 3, 3, 2, 1]) ➞ [1, 2, 3]"
      ],
      "metadata": {
        "id": "gWY72qjzAolS"
      }
    },
    {
      "cell_type": "code",
      "source": [
        "def setify(l):\n",
        "    return list(set(l))\n",
        "\n",
        "l1 = [1, 3, 3, 5, 5]\n",
        "l2 = [4, 4, 4, 4]\n",
        "l3 = [5, 7, 8, 9, 10, 15]\n",
        "l4 = [3, 3, 3, 2, 1]\n",
        "\n",
        "print('orignal list is  {} after removing duplicate {}'.format(l1,setify(l1)))\n",
        "print('orignal list is  {} after removing duplicate {}'.format(l2,setify(l2)))\n",
        "print('orignal list is  {} after removing duplicate {}'.format(l3,setify(l3)))\n",
        "print('orignal list is  {} after removing duplicate {}'.format(l4,setify(l4)))"
      ],
      "metadata": {
        "colab": {
          "base_uri": "https://localhost:8080/"
        },
        "id": "ZEo6CvwHAZzE",
        "outputId": "733a9a6f-cb1d-4029-ef91-10c878c1496f"
      },
      "execution_count": null,
      "outputs": [
        {
          "output_type": "stream",
          "name": "stdout",
          "text": [
            "orignal list is  [1, 3, 3, 5, 5] after removing duplicate [1, 3, 5]\n",
            "orignal list is  [4, 4, 4, 4] after removing duplicate [4]\n",
            "orignal list is  [5, 7, 8, 9, 10, 15] after removing duplicate [5, 7, 8, 9, 10, 15]\n",
            "orignal list is  [3, 3, 3, 2, 1] after removing duplicate [1, 2, 3]\n"
          ]
        }
      ]
    },
    {
      "cell_type": "markdown",
      "source": [
        "5. Create a function that returns the mean of all digits.\n",
        "Examples\n",
        "mean(42) ➞ 3\n",
        "mean(12345) ➞ 3\n",
        "mean(666) ➞ 6"
      ],
      "metadata": {
        "id": "Ohk1mjYlB20C"
      }
    },
    {
      "cell_type": "code",
      "source": [
        "def mean(n):\n",
        "  len_n = len(str(n))\n",
        "  sum = 0\n",
        "  mean = 1\n",
        "  for i in str(n):\n",
        "    sum = sum + int(i)\n",
        "    mean = sum/len_n\n",
        "  return round(mean)\n",
        "\n",
        "n1 = 42\n",
        "n2 = 12345\n",
        "n3 = 666\n",
        "\n",
        "print(\"mean of digit {} is {}\".format(n1,mean(n1)))\n",
        "print(\"mean of digit {} is {}\".format(n2,mean(n2)))\n",
        "print(\"mean of digit {} is {}\".format(n3,mean(n3)))\n"
      ],
      "metadata": {
        "colab": {
          "base_uri": "https://localhost:8080/"
        },
        "id": "9wrmh-A1BjBN",
        "outputId": "57d3073f-8dd6-46d5-9a2f-473dd6623f47"
      },
      "execution_count": null,
      "outputs": [
        {
          "output_type": "stream",
          "name": "stdout",
          "text": [
            "mean of digit 42 is 3\n",
            "mean of digit 12345 is 3\n",
            "mean of digit 666 is 6\n"
          ]
        }
      ]
    },
    {
      "cell_type": "code",
      "source": [
        ""
      ],
      "metadata": {
        "id": "IFXPynShCX8e"
      },
      "execution_count": null,
      "outputs": []
    }
  ]
}