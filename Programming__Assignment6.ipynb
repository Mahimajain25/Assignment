{
  "nbformat": 4,
  "nbformat_minor": 0,
  "metadata": {
    "colab": {
      "name": "Programming _Assignment6.ipynb",
      "provenance": [],
      "collapsed_sections": []
    },
    "kernelspec": {
      "name": "python3",
      "display_name": "Python 3"
    },
    "language_info": {
      "name": "python"
    }
  },
  "cells": [
    {
      "cell_type": "markdown",
      "source": [
        "1. Write a Python Program to Display Fibonacci Sequence Using Recursion?\n",
        "\n"
      ],
      "metadata": {
        "id": "_ZJAQJGGTlsU"
      }
    },
    {
      "cell_type": "code",
      "execution_count": null,
      "metadata": {
        "id": "P8ATvQd3pSaZ",
        "colab": {
          "base_uri": "https://localhost:8080/"
        },
        "outputId": "9ac747d3-2176-47bf-fecd-41dd984db88a"
      },
      "outputs": [
        {
          "name": "stdout",
          "output_type": "stream",
          "text": [
            "Enter Num:7\n"
          ]
        },
        {
          "output_type": "execute_result",
          "data": {
            "text/plain": [
              "[0, 1, 1, 2, 3, 5, 8, 13]"
            ]
          },
          "metadata": {},
          "execution_count": 1
        }
      ],
      "source": [
        "def fibonacci(n):\n",
        "   if n in range(0,2):  \n",
        "         return n\n",
        "   return fibonacci(n - 1) + fibonacci(n - 2) \n",
        "num = int(input(\"Enter Num:\"))\n",
        "[fibonacci(n) for n in range(num +1)]"
      ]
    },
    {
      "cell_type": "markdown",
      "source": [
        "2. Write a Python Program to Find Factorial of Number Using Recursion?"
      ],
      "metadata": {
        "id": "KSenf4B2UJGI"
      }
    },
    {
      "cell_type": "code",
      "source": [
        "def facto(x):\n",
        "  if x == 1:\n",
        "    return 1\n",
        "  return x * facto(x-1) \n",
        "x = int(input(\"Enter a number:\"))\n",
        "facto(x)"
      ],
      "metadata": {
        "colab": {
          "base_uri": "https://localhost:8080/"
        },
        "id": "yUpr_C3gTk2t",
        "outputId": "926a095c-8aa6-4496-dbbc-478da2ec4691"
      },
      "execution_count": 19,
      "outputs": [
        {
          "name": "stdout",
          "output_type": "stream",
          "text": [
            "Enter a number:5\n"
          ]
        },
        {
          "output_type": "execute_result",
          "data": {
            "text/plain": [
              "120"
            ]
          },
          "metadata": {},
          "execution_count": 19
        }
      ]
    },
    {
      "cell_type": "markdown",
      "source": [
        "3. Write a Python Program to calculate your Body Mass Index?"
      ],
      "metadata": {
        "id": "Q2Ul3V9gUvpg"
      }
    },
    {
      "cell_type": "code",
      "source": [
        "#BMI = Weight/Height square\n",
        "Weight = float(input(\"Enter the Weight in KG(Kilogram) \"))\n",
        "Height = float(input(\"Enter the Hieght in Meter \"))\n",
        "BMI = Weight/(Height * Height)\n",
        "print(\"Body Mass Index is \", BMI)"
      ],
      "metadata": {
        "colab": {
          "base_uri": "https://localhost:8080/"
        },
        "id": "y_3Yrv3qUnsz",
        "outputId": "e4b687f8-8e46-4fb9-f42f-b21fe6789928"
      },
      "execution_count": null,
      "outputs": [
        {
          "output_type": "stream",
          "name": "stdout",
          "text": [
            "Enter the Weight in KG(Kilogram) 60.00\n",
            "Enter the Hieght in Meter 1.52\n",
            "Body Mass Index is  25.969529085872576\n"
          ]
        }
      ]
    },
    {
      "cell_type": "markdown",
      "source": [
        "4. Write a Python Program to calculate the natural logarithm of any number?"
      ],
      "metadata": {
        "id": "_TfIHpcJXm7q"
      }
    },
    {
      "cell_type": "code",
      "source": [
        "import math\n",
        "num = int(input(\"Enter Number\"))\n",
        "N_log = math.log(num)\n",
        "print(\"Natural Lograithm of\",num, \"is \",N_log)"
      ],
      "metadata": {
        "colab": {
          "base_uri": "https://localhost:8080/"
        },
        "id": "xaOZmjjGWXEO",
        "outputId": "4f85dbde-cd86-4bb4-f10a-30ca3b3c9483"
      },
      "execution_count": null,
      "outputs": [
        {
          "output_type": "stream",
          "name": "stdout",
          "text": [
            "Enter Number14\n",
            "Natural Lograithm of 14 is  2.6390573296152584\n"
          ]
        }
      ]
    },
    {
      "cell_type": "markdown",
      "source": [
        "5. Write a Python Program for cube sum of first n natural numbers?"
      ],
      "metadata": {
        "id": "bUWcaTJFauAO"
      }
    },
    {
      "cell_type": "code",
      "source": [
        "num = int(input(\"Enter Number \"))\n",
        "sum = 0\n",
        "for i in range(1,num+1):\n",
        "  sum = pow(i,3) + sum\n",
        "print(\"sum of first\", num,\"Natural number is \",sum)"
      ],
      "metadata": {
        "colab": {
          "base_uri": "https://localhost:8080/"
        },
        "id": "IKj9iw42airY",
        "outputId": "057b3e5d-e0b2-4ed7-bea9-35ab59c6a950"
      },
      "execution_count": null,
      "outputs": [
        {
          "output_type": "stream",
          "name": "stdout",
          "text": [
            "Enter Number 3\n",
            "sum of first 3 Natural number is  36\n"
          ]
        }
      ]
    }
  ]
}