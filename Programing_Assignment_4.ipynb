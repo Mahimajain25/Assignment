{
  "nbformat": 4,
  "nbformat_minor": 0,
  "metadata": {
    "colab": {
      "name": "Programing_Assignment 4 .ipynb",
      "provenance": [],
      "collapsed_sections": []
    },
    "kernelspec": {
      "name": "python3",
      "display_name": "Python 3"
    },
    "language_info": {
      "name": "python"
    }
  },
  "cells": [
    {
      "cell_type": "markdown",
      "source": [
        "1. Write a Python Program to Find the Factorial of a Number?"
      ],
      "metadata": {
        "id": "I9SOPs5mF7_e"
      }
    },
    {
      "cell_type": "code",
      "source": [
        "######## Method 1 ###########\n",
        "num = int(input(\"Enter a Number:\"))\n",
        "fact = 1\n",
        "for i in range(1,num+1) :\n",
        "  fact = fact * i\n",
        "print(fact)"
      ],
      "metadata": {
        "colab": {
          "base_uri": "https://localhost:8080/"
        },
        "id": "xgTLBZUDF93d",
        "outputId": "0c5a52da-3cef-4c63-b840-84b7207ad8c0"
      },
      "execution_count": null,
      "outputs": [
        {
          "output_type": "stream",
          "name": "stdout",
          "text": [
            "Enter a Number:5\n",
            "120\n"
          ]
        }
      ]
    },
    {
      "cell_type": "code",
      "source": [
        "############# Method 2 #############\n",
        "def facto(x):\n",
        "  if x == 1:\n",
        "    return 1\n",
        "  return x * facto(x-1) \n",
        "x = int(input(\"Enter a number:\"))\n",
        "facto(x)"
      ],
      "metadata": {
        "colab": {
          "base_uri": "https://localhost:8080/"
        },
        "id": "XfONADvUZMk8",
        "outputId": "ec731661-d6dc-4b1a-e5e9-0ac35c05f34d"
      },
      "execution_count": null,
      "outputs": [
        {
          "name": "stdout",
          "output_type": "stream",
          "text": [
            "Enter a number:5\n"
          ]
        },
        {
          "output_type": "execute_result",
          "data": {
            "text/plain": [
              "120"
            ]
          },
          "metadata": {},
          "execution_count": 75
        }
      ]
    },
    {
      "cell_type": "markdown",
      "source": [
        "2. Write a Python Program to Display the multiplication Table?"
      ],
      "metadata": {
        "id": "MwGWrRFgIrER"
      }
    },
    {
      "cell_type": "code",
      "source": [
        "#num = int(input(\"Enter a Number:\"))\n",
        "num = 2 \n",
        "for i in range (1,11) :\n",
        "  multiplication = num * i\n",
        "  print(num,\"x\",i,\"=\",multiplication)"
      ],
      "metadata": {
        "colab": {
          "base_uri": "https://localhost:8080/"
        },
        "id": "roRXJx0hHEg6",
        "outputId": "a110fba9-94b7-482b-92db-75042ad36219"
      },
      "execution_count": null,
      "outputs": [
        {
          "output_type": "stream",
          "name": "stdout",
          "text": [
            "2 x 1 = 2\n",
            "2 x 2 = 4\n",
            "2 x 3 = 6\n",
            "2 x 4 = 8\n",
            "2 x 5 = 10\n",
            "2 x 6 = 12\n",
            "2 x 7 = 14\n",
            "2 x 8 = 16\n",
            "2 x 9 = 18\n",
            "2 x 10 = 20\n"
          ]
        }
      ]
    },
    {
      "cell_type": "markdown",
      "source": [
        "3. Write a Python Program to Print the Fibonacci sequence?\n"
      ],
      "metadata": {
        "id": "plgVXACAKQL6"
      }
    },
    {
      "cell_type": "code",
      "source": [
        "def fibonacci(n):\n",
        "   if n in range(0,2):  \n",
        "         return n\n",
        "   return fibonacci(n - 1) + fibonacci(n - 2) \n",
        "num = int(input(\"Enter Num:\"))\n",
        "[fibonacci(n) for n in range(num +1)]\n"
      ],
      "metadata": {
        "colab": {
          "base_uri": "https://localhost:8080/"
        },
        "id": "LoOKSciPJpZ_",
        "outputId": "a213dfed-2767-4ad2-94b7-7e0478c288cc"
      },
      "execution_count": null,
      "outputs": [
        {
          "name": "stdout",
          "output_type": "stream",
          "text": [
            "Enter Num:5\n"
          ]
        },
        {
          "output_type": "execute_result",
          "data": {
            "text/plain": [
              "[0, 1, 1, 2, 3, 5]"
            ]
          },
          "metadata": {},
          "execution_count": 76
        }
      ]
    },
    {
      "cell_type": "markdown",
      "source": [
        "4. Write a Python Program to Check Armstrong Number?"
      ],
      "metadata": {
        "id": "yf18QD-gb3yY"
      }
    },
    {
      "cell_type": "code",
      "source": [
        "#An Armstrong number of three digits is an integer such that the sum of the cubes of its digits is equal to the number itself. For example, 371 is an Armstrong number since 3**3 + 7**3 + 1**3 = 371.\n",
        "num = int(input(\"Enter a number \"))\n",
        "x = [int(i) for i in str(num)]\n",
        "print(\"single digit\", x)\n",
        "y = [pow(i,3) for i in x]\n",
        "print(\"Cube of num\", y)\n",
        "sum1 = sum(y)\n",
        "print(\"sum of cube is\",sum1)\n",
        "if sum1 == num :\n",
        " print(num, \"is Armstrong number\")\n",
        "else :\n",
        " print(num, \"is not Armstrong number\")"
      ],
      "metadata": {
        "colab": {
          "base_uri": "https://localhost:8080/"
        },
        "id": "HW0p8ZhgNY-X",
        "outputId": "f4451de7-5996-4969-d7e0-0496da1449d3"
      },
      "execution_count": null,
      "outputs": [
        {
          "output_type": "stream",
          "name": "stdout",
          "text": [
            "Enter a number 371\n",
            "single digit [3, 7, 1]\n",
            "Cube of num [27, 343, 1]\n",
            "sum of cube is 371\n",
            "371 is Armstrong number\n"
          ]
        }
      ]
    },
    {
      "cell_type": "markdown",
      "source": [
        "5. Write a Python Program to Find Armstrong Number in an Interval?"
      ],
      "metadata": {
        "id": "1CORuwObiaAK"
      }
    },
    {
      "cell_type": "code",
      "source": [
        "x=int(input(\"lower limit: \"))\n",
        "y=int(input(\"upper limit: \"))\n",
        "print(\"Armstrong Numbers are: \")\n",
        "for Number in range(x,y+1):\n",
        " digits=0\n",
        " temp=Number\n",
        " while temp>0: \n",
        "  digits=digits+1\n",
        "  temp=temp//10\n",
        " sum=0\n",
        " temp=Number\n",
        " while temp>0: \n",
        "  last_digit=temp%10\n",
        "  sum=sum+(last_digit**digits)\n",
        "  temp=temp//10\n",
        " if Number == sum:\n",
        "    print(Number)"
      ],
      "metadata": {
        "colab": {
          "base_uri": "https://localhost:8080/"
        },
        "id": "s-nn5X3Z1afS",
        "outputId": "fd7c935c-3a55-4140-96dd-fd4648e28673"
      },
      "execution_count": null,
      "outputs": [
        {
          "output_type": "stream",
          "name": "stdout",
          "text": [
            "lower limit: 100\n",
            "upper limit: 1000\n",
            "Armstrong Numbers are: \n",
            "153\n",
            "370\n",
            "371\n",
            "407\n"
          ]
        }
      ]
    },
    {
      "cell_type": "markdown",
      "source": [
        "6. Write a Python Program to Find the Sum of Natural Numbers?"
      ],
      "metadata": {
        "id": "uJxsg11d7N5u"
      }
    },
    {
      "cell_type": "code",
      "source": [
        "num = int(input(\"Enter the number \"))\n",
        "sum = 0\n",
        "if num <= 0 :\n",
        "  print(\"Enter positive interger only\")\n",
        "for i in range(1,num+1):\n",
        "   sum = i + sum\n",
        "print(\"sum of natural num is \", sum)"
      ],
      "metadata": {
        "colab": {
          "base_uri": "https://localhost:8080/"
        },
        "id": "XNqz4AV66sCe",
        "outputId": "73f847fb-7d90-4f4f-985f-88594bd44e16"
      },
      "execution_count": null,
      "outputs": [
        {
          "output_type": "stream",
          "name": "stdout",
          "text": [
            "Enter the number 4\n",
            "sum of natural num is  10\n"
          ]
        }
      ]
    }
  ]
}