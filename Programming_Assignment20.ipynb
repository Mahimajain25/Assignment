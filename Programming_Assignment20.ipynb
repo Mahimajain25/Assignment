{
  "nbformat": 4,
  "nbformat_minor": 0,
  "metadata": {
    "colab": {
      "name": "Programming_Assignment20.ipynb",
      "provenance": []
    },
    "kernelspec": {
      "name": "python3",
      "display_name": "Python 3"
    },
    "language_info": {
      "name": "python"
    }
  },
  "cells": [
    {
      "cell_type": "markdown",
      "source": [
        "1. Create a function that takes a list of strings and integers, and filters out the list so that it\n",
        "returns a list of integers only.\n",
        "Examples\n",
        "filter_list([1, 2, 3, &quot;a&quot;, &quot;b&quot;, 4]) ➞ [1, 2, 3, 4]\n",
        "filter_list([&quot;A&quot;, 0, &quot;Edabit&quot;, 1729, &quot;Python&quot;, &quot;1729&quot;]) ➞ [0, 1729]\n",
        "filter_list([&quot;Nothing&quot;, &quot;here&quot;]) ➞ []"
      ],
      "metadata": {
        "id": "1bM0UaKP9ud4"
      }
    },
    {
      "cell_type": "code",
      "execution_count": null,
      "metadata": {
        "id": "5Lt_hShorwbA",
        "colab": {
          "base_uri": "https://localhost:8080/"
        },
        "outputId": "3fda4ad8-8f07-4127-cc1d-16abec428483"
      },
      "outputs": [
        {
          "output_type": "stream",
          "name": "stdout",
          "text": [
            "Original list1  [1, 2, 3, 'a', 'b', 4] Integer List  [1, 2, 3, 4]\n",
            "Original list2  ['A', 0, 'Edabit', 1729, 'Python', '1729'] Integer List  [0, 1729]\n",
            "Original list3  ['Nothing', 'here'] Integer List  []\n"
          ]
        }
      ],
      "source": [
        "def return_integer(l):\n",
        "  int_l = []\n",
        "  for i in l:\n",
        "    if(type(i) == int):\n",
        "      int_l.append(i)\n",
        "  return int_l\n",
        "\n",
        "l1 = [1,2,3,'a','b',4]\n",
        "l2 = ['A', 0, 'Edabit', 1729, 'Python', '1729']\n",
        "l3 = ['Nothing', 'here']\n",
        "print(\"Original list1 \", l1, \"Integer List \", return_integer(l1))\n",
        "print(\"Original list2 \", l2, \"Integer List \", return_integer(l2))\n",
        "print(\"Original list3 \", l3, \"Integer List \", return_integer(l3))"
      ]
    },
    {
      "cell_type": "markdown",
      "source": [
        "2. Given a list of numbers, create a function which returns the list but with each element&#39;s\n",
        "index in the list added to itself. This means you add 0 to the number at index 0, add 1 to the\n",
        "number at index 1, etc...\n",
        "Examples\n",
        "add_indexes([0, 0, 0, 0, 0]) ➞ [0, 1, 2, 3, 4]\n",
        "add_indexes([1, 2, 3, 4, 5]) ➞ [1, 3, 5, 7, 9]\n",
        "add_indexes([5, 4, 3, 2, 1]) ➞ [5, 5, 5, 5, 5]"
      ],
      "metadata": {
        "id": "ODxrlXhB_cDr"
      }
    },
    {
      "cell_type": "code",
      "source": [
        "def add_indexes(l):\n",
        "  new_list = []\n",
        "  for i in range(len(l)):\n",
        "    #print(i,l[i])\n",
        "    add_index = i+l[i]\n",
        "    #print(add_index)\n",
        "    new_list.append(add_index)\n",
        "  return new_list\n",
        "\n",
        "l1 = [0, 0, 0, 0, 0]\n",
        "l2 = [1, 2, 3, 4, 5]\n",
        "l3 = [5, 4, 3, 2, 1]\n",
        "print(\"Original list1 \", l1, \"after index addtions\", add_indexes(l1))\n",
        "print(\"Original list2 \", l2, \"after index addtions\", add_indexes(l3))\n",
        "print(\"Original list3 \", l3, \"after index addtions\", add_indexes(l3))"
      ],
      "metadata": {
        "colab": {
          "base_uri": "https://localhost:8080/"
        },
        "id": "45SDG7nH-D0S",
        "outputId": "8b90959d-5ad3-4e82-8948-1fed17a8d243"
      },
      "execution_count": null,
      "outputs": [
        {
          "output_type": "stream",
          "name": "stdout",
          "text": [
            "Original list1  [0, 0, 0, 0, 0] after index addtions [0, 1, 2, 3, 4]\n",
            "Original list2  [1, 2, 3, 4, 5] after index addtions [5, 5, 5, 5, 5]\n",
            "Original list3  [5, 4, 3, 2, 1] after index addtions [5, 5, 5, 5, 5]\n"
          ]
        }
      ]
    },
    {
      "cell_type": "markdown",
      "source": [
        "3. Create a function that takes the height and radius of a cone as arguments and returns the\n",
        "volume of the cone rounded to the nearest hundredth. See the resources tab for the formula.\n",
        "Examples\n",
        "cone_volume(3, 2) ➞ 12.57\n",
        "cone_volume(15, 6) ➞ 565.49\n",
        "cone_volume(18, 0) ➞ 0"
      ],
      "metadata": {
        "id": "acf4VkqDBmzf"
      }
    },
    {
      "cell_type": "code",
      "source": [
        "import math\n",
        "def cone_volume(h,r):\n",
        "  c_vol = round((1/3) * math.pi * r*r*h,2)\n",
        "  return c_vol\n",
        "\n",
        "print(\"Cone Height and radius is 3 and 2 repectively\",\"Cone volume is \", cone_volume(3,2))\n",
        "print(\"Cone Height and radius is 15 and 6 repectively\",\"Cone volume is \", cone_volume(15,6))\n",
        "print(\"Cone Height and radius is 18 and 0 repectively\",\"Cone volume is \", cone_volume(18,0))\n"
      ],
      "metadata": {
        "colab": {
          "base_uri": "https://localhost:8080/"
        },
        "id": "Gk9wnessAFnz",
        "outputId": "4530e19a-9498-43f0-89e0-3c9517fff471"
      },
      "execution_count": null,
      "outputs": [
        {
          "output_type": "stream",
          "name": "stdout",
          "text": [
            "Cone Height and radius is 3 and 2 repectively Cone volume is  12.57\n",
            "Cone Height and radius is 15 and 6 repectively Cone volume is  565.49\n",
            "Cone Height and radius is 18 and 0 repectively Cone volume is  0.0\n"
          ]
        }
      ]
    },
    {
      "cell_type": "markdown",
      "source": [
        "4. This Triangular Number Sequence is generated from a pattern of dots that form a triangle.\n",
        "The first 5 numbers of the sequence, or dots, are:\n",
        "1, 3, 6, 10, 15\n",
        "This means that the first triangle has just one dot, the second one has three dots, the third one\n",
        "has 6 dots and so on.\n",
        "Write a function that gives the number of dots with its corresponding triangle number of the\n",
        "sequence.\n",
        "Examples\n",
        "triangle(1) ➞ 1\n",
        "triangle(6) ➞ 21\n",
        "triangle(215) ➞ 23220"
      ],
      "metadata": {
        "id": "aIM8FfvRDxp-"
      }
    },
    {
      "cell_type": "code",
      "source": [
        "# Arithmetic progression\n",
        "# formula N*(N+1)/2\n",
        "\n",
        "def triangle(n):\n",
        "    return n*(n+1)*0.5\n",
        "n1 = 1\n",
        "n2 = 6\n",
        "n3 =215\n",
        "print(\"The {}th triangle has {} dots \".format(n1,int(triangle(n1))))\n",
        "print(\"The {}th triangle has {} dots \".format(n2,int(triangle(n2))))\n",
        "print(\"The {}th triangle has {} dots \".format(n3,int(triangle(n3))))"
      ],
      "metadata": {
        "colab": {
          "base_uri": "https://localhost:8080/"
        },
        "id": "FjVULouIC9rt",
        "outputId": "3e5082a7-0ea8-4d56-8285-1d10d43d98ba"
      },
      "execution_count": null,
      "outputs": [
        {
          "output_type": "stream",
          "name": "stdout",
          "text": [
            "The 1th triangle has 1 dots \n",
            "The 6th triangle has 21 dots \n",
            "The 215th triangle has 23220 dots \n"
          ]
        }
      ]
    },
    {
      "cell_type": "markdown",
      "source": [
        "5. Create a function that takes a list of numbers between 1 and 10 (excluding one number) and\n",
        "returns the missing number.\n",
        "Examples\n",
        "missing_num([1, 2, 3, 4, 6, 7, 8, 9, 10]) ➞ 5\n",
        "missing_num([7, 2, 3, 6, 5, 9, 1, 4, 8]) ➞ 10\n",
        "missing_num([10, 5, 1, 2, 4, 6, 8, 3, 9]) ➞ 7"
      ],
      "metadata": {
        "id": "8PxbLLptMuay"
      }
    },
    {
      "cell_type": "code",
      "source": [
        "def missing_num(lst):\n",
        "    total = sum([x for x in range(11)])\n",
        "    sum_Of_list = sum(lst)\n",
        "    return total - sum_Of_list\n",
        "\n",
        "l1 = [1, 2, 3, 4, 6, 7, 8, 9, 10]\n",
        "l2 = [7, 2, 3, 6, 5, 9, 1, 4, 8]\n",
        "l3 =[10, 5, 1, 2, 4, 6, 8, 3, 9]\n",
        "\n",
        "print(\"Missing value in list1\", l1 ,\"is \" ,missing_num(l1))\n",
        "print(\"Missing value in list1\", l2 ,\"is \" ,missing_num(l2))\n",
        "print(\"Missing value in list1\", l3, \"is \" ,missing_num(l3))"
      ],
      "metadata": {
        "colab": {
          "base_uri": "https://localhost:8080/"
        },
        "id": "T170G3k7FESq",
        "outputId": "9f88f06c-aefb-49ad-9a16-3d6944637dae"
      },
      "execution_count": null,
      "outputs": [
        {
          "output_type": "stream",
          "name": "stdout",
          "text": [
            "Missing value in list1 [1, 2, 3, 4, 6, 7, 8, 9, 10] is  5\n",
            "Missing value in list1 [7, 2, 3, 6, 5, 9, 1, 4, 8] is  10\n",
            "Missing value in list1 [10, 5, 1, 2, 4, 6, 8, 3, 9] is  7\n"
          ]
        }
      ]
    },
    {
      "cell_type": "code",
      "source": [
        ""
      ],
      "metadata": {
        "id": "dUdp08JUNTA2"
      },
      "execution_count": null,
      "outputs": []
    }
  ]
}