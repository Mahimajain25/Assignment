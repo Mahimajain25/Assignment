{
  "nbformat": 4,
  "nbformat_minor": 0,
  "metadata": {
    "colab": {
      "name": "Programming Assignment1.ipynb",
      "provenance": []
    },
    "kernelspec": {
      "name": "python3",
      "display_name": "Python 3"
    },
    "language_info": {
      "name": "python"
    }
  },
  "cells": [
    {
      "cell_type": "markdown",
      "source": [
        "1.Write a Python program to print \"Hello Python\"?\n"
      ],
      "metadata": {
        "id": "YIpw0tbaaQ3j"
      }
    },
    {
      "cell_type": "code",
      "source": [
        "print(\"Hello Python\")"
      ],
      "metadata": {
        "colab": {
          "base_uri": "https://localhost:8080/"
        },
        "id": "MYCH4J7QaVaZ",
        "outputId": "61b105c3-9f73-494a-be56-545578ad897b"
      },
      "execution_count": 27,
      "outputs": [
        {
          "output_type": "stream",
          "name": "stdout",
          "text": [
            "Hello Python\n"
          ]
        }
      ]
    },
    {
      "cell_type": "markdown",
      "source": [
        "2. Write a Python program to do arithmetical operations addition and division.?\n"
      ],
      "metadata": {
        "id": "XP7MkYDTTxug"
      }
    },
    {
      "cell_type": "code",
      "source": [
        "a = 10\n",
        "b = 20\n",
        "Add = 10 + 20\n",
        "print(\"Addition:\", a, \"plus\", b ,\"is\", Add) \n",
        "c = 2 \n",
        "Divide = b / c\n",
        "print(\"Division:\", b, \"divided by \", c, \"is\", Divide) "
      ],
      "metadata": {
        "colab": {
          "base_uri": "https://localhost:8080/"
        },
        "id": "crSuVea5T4eK",
        "outputId": "e1eebd30-31e9-4d7c-c6fb-d9b218c98c82"
      },
      "execution_count": 26,
      "outputs": [
        {
          "output_type": "stream",
          "name": "stdout",
          "text": [
            "Addition: 10 plus 20 is 30\n",
            "Division: 20 divided by  2 is 10.0\n"
          ]
        }
      ]
    },
    {
      "cell_type": "markdown",
      "source": [
        "3. Write a Python program to find the area of a triangle?"
      ],
      "metadata": {
        "id": "UeFhmJQyVHBY"
      }
    },
    {
      "cell_type": "code",
      "source": [
        "# Area of triangle = 1/2 × base × height\n",
        "base = 100\n",
        "height = 500\n",
        "half = 0.5\n",
        "Area_of_Triangle = half * base * height\n",
        "print(Area_of_Triangle) "
      ],
      "metadata": {
        "colab": {
          "base_uri": "https://localhost:8080/"
        },
        "id": "bZ7JjFi_VMZS",
        "outputId": "385d1705-9d4a-4b02-c212-31d5be7c75eb"
      },
      "execution_count": null,
      "outputs": [
        {
          "output_type": "stream",
          "name": "stdout",
          "text": [
            "25000.0\n"
          ]
        }
      ]
    },
    {
      "cell_type": "markdown",
      "source": [
        "4. Write a Python program to swap two variables"
      ],
      "metadata": {
        "id": "anzeFIffWARp"
      }
    },
    {
      "cell_type": "code",
      "source": [
        "var1 = 10\n",
        "var2 = 20\n",
        "print (\"Before swapping\", var1, var2)\n",
        "temp = var1\n",
        "var1 = var2\n",
        "var2 = temp\n",
        "print(\"After Swaping\",var1 , var2)\n"
      ],
      "metadata": {
        "colab": {
          "base_uri": "https://localhost:8080/"
        },
        "id": "3iY0RmTxWEWr",
        "outputId": "42689a8d-6a56-4439-9887-e0562a6bcfe1"
      },
      "execution_count": 20,
      "outputs": [
        {
          "output_type": "stream",
          "name": "stdout",
          "text": [
            "Before swapping 10 20\n",
            "After Swaping 20 10\n"
          ]
        }
      ]
    },
    {
      "cell_type": "markdown",
      "source": [
        "5.Write a Python program to generate a random number?"
      ],
      "metadata": {
        "id": "tv4-JRm8YF2o"
      }
    },
    {
      "cell_type": "code",
      "source": [
        "import random\n",
        "num = random.randint(1,100)\n",
        "num"
      ],
      "metadata": {
        "colab": {
          "base_uri": "https://localhost:8080/"
        },
        "id": "xyZZhJ7AYLNE",
        "outputId": "5097ba0d-4935-4d57-c338-a0441d8671e8"
      },
      "execution_count": 24,
      "outputs": [
        {
          "output_type": "execute_result",
          "data": {
            "text/plain": [
              "59"
            ]
          },
          "metadata": {},
          "execution_count": 24
        }
      ]
    },
    {
      "cell_type": "code",
      "source": [
        ""
      ],
      "metadata": {
        "id": "f_vdsscwYxpb"
      },
      "execution_count": null,
      "outputs": []
    }
  ]
}