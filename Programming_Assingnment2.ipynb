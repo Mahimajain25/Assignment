{
  "nbformat": 4,
  "nbformat_minor": 0,
  "metadata": {
    "colab": {
      "name": "Programming Assingnment2.ipynb",
      "provenance": [],
      "collapsed_sections": []
    },
    "kernelspec": {
      "name": "python3",
      "display_name": "Python 3"
    },
    "language_info": {
      "name": "python"
    }
  },
  "cells": [
    {
      "cell_type": "markdown",
      "source": [
        "Programming_Assingment2\n"
      ],
      "metadata": {
        "id": "2-t9Nk8ybrzX"
      }
    },
    {
      "cell_type": "markdown",
      "source": [
        "Write a Python program to convert kilometers to miles"
      ],
      "metadata": {
        "id": "x_itEAG0bVwb"
      }
    },
    {
      "cell_type": "code",
      "source": [
        "#1 kilometer (km) = 0.62137 miles (mi)\n",
        "km = float(input(\"enter KM \"))\n",
        "miles = km * 0.62137\n",
        "print (km,\"KM is equal to\", miles,\"miles\")"
      ],
      "metadata": {
        "colab": {
          "base_uri": "https://localhost:8080/"
        },
        "id": "bobr1GTHbZ6H",
        "outputId": "3ce6d3f5-8c53-400f-9aec-5e25ad6b8f0d"
      },
      "execution_count": null,
      "outputs": [
        {
          "output_type": "stream",
          "name": "stdout",
          "text": [
            "enter KM 10\n",
            "10.0 KM is equal to 6.213699999999999 miles\n"
          ]
        }
      ]
    },
    {
      "cell_type": "markdown",
      "source": [
        "Write a Python program to convert Celsius to Fahrenheit?\n"
      ],
      "metadata": {
        "id": "_T4fn7nfc675"
      }
    },
    {
      "cell_type": "code",
      "source": [
        "#(1°C × 9/5) + 32 = 33.8 Fahrenheit\n",
        "Celsius = float(input(\"Enter Celsius \"))\n",
        "Fahrenheit = (Celsius * 9/5) + 32\n",
        "print(Celsius, \" degree Celsius is equall to\", Fahrenheit, \"Fahrenheit\")"
      ],
      "metadata": {
        "colab": {
          "base_uri": "https://localhost:8080/"
        },
        "id": "HUSRe-ZTc8qV",
        "outputId": "da4155be-d3e5-49ea-ac82-c65947555382"
      },
      "execution_count": null,
      "outputs": [
        {
          "output_type": "stream",
          "name": "stdout",
          "text": [
            "Enter Celsius 2\n",
            "2.0  degree Celsius is equall to 35.6 Fahrenheit\n"
          ]
        }
      ]
    },
    {
      "cell_type": "markdown",
      "source": [
        "Write a Python program to display calendar?\n"
      ],
      "metadata": {
        "id": "pib6bwK1esqx"
      }
    },
    {
      "cell_type": "code",
      "source": [
        "import calendar  \n",
        "year = int(input(\"Enter year: \"))  \n",
        "month = int(input(\"Enter month: \"))  \n",
        "print(calendar.month(year,month))  "
      ],
      "metadata": {
        "colab": {
          "base_uri": "https://localhost:8080/"
        },
        "id": "128ZaDH6eqbV",
        "outputId": "507104e8-72dc-4b3b-dd33-5d1fc6b160eb"
      },
      "execution_count": null,
      "outputs": [
        {
          "output_type": "stream",
          "name": "stdout",
          "text": [
            "Enter year: 2022\n",
            "Enter month: 11\n",
            "   November 2022\n",
            "Mo Tu We Th Fr Sa Su\n",
            "    1  2  3  4  5  6\n",
            " 7  8  9 10 11 12 13\n",
            "14 15 16 17 18 19 20\n",
            "21 22 23 24 25 26 27\n",
            "28 29 30\n",
            "\n"
          ]
        }
      ]
    },
    {
      "cell_type": "markdown",
      "source": [
        "Write a Python program to solve quadratic equation?"
      ],
      "metadata": {
        "id": "iT8V11lkfR0p"
      }
    },
    {
      "cell_type": "code",
      "source": [
        "# Solve the quadratic equation ax**2 + bx + c = 0\n",
        "import cmath\n",
        "a = int(input(\"Enter A:\"))\n",
        "b = int(input(\"Enter B:\"))\n",
        "c = int(input(\"Enter C:\"))\n",
        "# calculate the discriminant\n",
        "d = (b**2) - (4*a*c)\n",
        "# find two solutions\n",
        "sol1 = (-b-cmath.sqrt(d))/(2*a)\n",
        "sol2 = (-b+cmath.sqrt(d))/(2*a)\n",
        "print('The solution are {0} and {1}'.format(sol1,sol2))\n"
      ],
      "metadata": {
        "id": "Ibfv7Tb8fKXZ",
        "colab": {
          "base_uri": "https://localhost:8080/"
        },
        "outputId": "36eb02e5-bba6-44ce-d420-942e55c954ad"
      },
      "execution_count": 15,
      "outputs": [
        {
          "output_type": "stream",
          "name": "stdout",
          "text": [
            "Enter A:1\n",
            "Enter B:3\n",
            "Enter C:5\n",
            "The solution are (-1.5-1.6583123951777j) and (-1.5+1.6583123951777j)\n"
          ]
        }
      ]
    },
    {
      "cell_type": "markdown",
      "source": [
        "Write a Python program to swap two variables without temp variable?\n"
      ],
      "metadata": {
        "id": "TcWNNfnmrEDG"
      }
    },
    {
      "cell_type": "code",
      "source": [
        "var1 = \"Python\"\n",
        "var2 = \"Machine Learning\"\n",
        "print(\"Before Swapping var1\", var1, \"and var2\",var2)\n",
        "var1,var2 = var2,var1\n",
        "print(\"After Swapping var1\", var1, \"and var2\",var2)\n"
      ],
      "metadata": {
        "colab": {
          "base_uri": "https://localhost:8080/"
        },
        "id": "Bg8qIu50qXCU",
        "outputId": "e0f2bac8-7a36-451b-db00-92b04b301815"
      },
      "execution_count": 18,
      "outputs": [
        {
          "output_type": "stream",
          "name": "stdout",
          "text": [
            "Before Swapping var1 Python and var2 Machine Learning\n",
            "After Swapping var1 Machine Learning and var2 Python\n"
          ]
        }
      ]
    },
    {
      "cell_type": "code",
      "source": [
        ""
      ],
      "metadata": {
        "id": "rQxVZuJZsH1X"
      },
      "execution_count": null,
      "outputs": []
    }
  ]
}