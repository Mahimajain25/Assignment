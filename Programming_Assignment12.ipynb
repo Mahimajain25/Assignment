{
  "nbformat": 4,
  "nbformat_minor": 0,
  "metadata": {
    "colab": {
      "name": "Programming_Assignment12.ipynb",
      "provenance": []
    },
    "kernelspec": {
      "name": "python3",
      "display_name": "Python 3"
    },
    "language_info": {
      "name": "python"
    }
  },
  "cells": [
    {
      "cell_type": "markdown",
      "source": [
        "1. Write a Python program to Extract Unique values dictionary values?"
      ],
      "metadata": {
        "id": "tju0HB5L7gtp"
      }
    },
    {
      "cell_type": "code",
      "execution_count": null,
      "metadata": {
        "colab": {
          "base_uri": "https://localhost:8080/"
        },
        "id": "Vchrydi67UzG",
        "outputId": "2d275343-9a01-403b-8750-b352dd564b7e"
      },
      "outputs": [
        {
          "output_type": "stream",
          "name": "stdout",
          "text": [
            "The original dictionary is :  {'A': [10, 11, 2], 'B': [4, 6, 8, 10], 'C': [9, 10, 23, 11, 2, 100], 'D': [10, 3, 4, 100]}\n",
            "The unique values list is :  [2, 3, 4, 6, 8, 9, 10, 11, 23, 100]\n"
          ]
        }
      ],
      "source": [
        "from itertools import chain\n",
        "\n",
        "dict1 = {'A' : [10, 11, 2],\n",
        "             'B' : [4, 6, 8, 10],\n",
        "             'C' : [9, 10, 23, 11, 2,100],\n",
        "             'D' : [10, 3, 4,100]}\n",
        "  \n",
        "print(\"The original dictionary is : \" ,dict1)\n",
        "  \n",
        "res = list(sorted(set(chain(*dict1.values()))))\n",
        "  \n",
        "print(\"The unique values list is : \" , res) "
      ]
    },
    {
      "cell_type": "markdown",
      "source": [
        "2. Write a Python program to find the sum of all items in a dictionary?"
      ],
      "metadata": {
        "id": "_t6a4YoLEfJh"
      }
    },
    {
      "cell_type": "code",
      "source": [
        "dict1 = {'A':10, 'B':20, 'C':30}\n",
        "sum(dict1.values())"
      ],
      "metadata": {
        "colab": {
          "base_uri": "https://localhost:8080/"
        },
        "id": "Dzz7YEo496Ux",
        "outputId": "e465462c-260b-4e1a-998f-e8190da971dc"
      },
      "execution_count": null,
      "outputs": [
        {
          "output_type": "execute_result",
          "data": {
            "text/plain": [
              "60"
            ]
          },
          "metadata": {},
          "execution_count": 19
        }
      ]
    },
    {
      "cell_type": "markdown",
      "source": [
        "3. Write a Python program to Merging two Dictionaries?"
      ],
      "metadata": {
        "id": "YmwOWHzxMlCZ"
      }
    },
    {
      "cell_type": "code",
      "source": [
        "def Merge(dict1, dict2):\n",
        "\tres = {**dict1, **dict2}\n",
        "\treturn res\n",
        "\t\n",
        "dict1 = {'a': 100, 'b': 200}\n",
        "dict2 = {'d': 6, 'c': 4}\n",
        "dict3 = Merge(dict1, dict2)\n",
        "print(dict3)\n",
        "\n"
      ],
      "metadata": {
        "colab": {
          "base_uri": "https://localhost:8080/"
        },
        "id": "n7bdtNje9lzf",
        "outputId": "3723cad7-5df2-4f3b-8648-5e12cd23864c"
      },
      "execution_count": null,
      "outputs": [
        {
          "output_type": "stream",
          "name": "stdout",
          "text": [
            "{'a': 100, 'b': 200, 'd': 6, 'c': 4}\n"
          ]
        }
      ]
    },
    {
      "cell_type": "markdown",
      "source": [
        "4. Write a Python program to convert key-values list to flat dictionary?"
      ],
      "metadata": {
        "id": "rZUSUOaPOXQj"
      }
    },
    {
      "cell_type": "code",
      "source": [
        "from itertools import product\n",
        "dict1 = {'month_name':['Jan','Feb','Mar'],'month_num':[1,2,3]}\n",
        "print(dict1)\n",
        "\n",
        "res = dict(zip(dict1['month_name'],dict1['month_num']))\n",
        "print(res)\n"
      ],
      "metadata": {
        "colab": {
          "base_uri": "https://localhost:8080/"
        },
        "id": "6YhBYXrq968a",
        "outputId": "1d7fa92a-d8b6-4ea2-bf81-f68c056b71a3"
      },
      "execution_count": null,
      "outputs": [
        {
          "output_type": "stream",
          "name": "stdout",
          "text": [
            "{'month_name': ['Jan', 'Feb', 'Mar'], 'month_num': [1, 2, 3]}\n",
            "{'Jan': 1, 'Feb': 2, 'Mar': 3}\n"
          ]
        }
      ]
    },
    {
      "cell_type": "markdown",
      "source": [
        "5. Write a Python program to insertion at the beginning in OrderedDict?"
      ],
      "metadata": {
        "id": "ZY2wdd6oQ7wT"
      }
    },
    {
      "cell_type": "code",
      "source": [
        "from collections import OrderedDict\n",
        "my_ordered_dict = OrderedDict([('Hello', '1'), ('World', '2')])\n",
        "print(\"The dictionary is :\")\n",
        "print(my_ordered_dict)\n",
        "my_ordered_dict.update({'Good Morning':'10'})\n",
        "my_ordered_dict.move_to_end('Good Morning', last = False)\n",
        "print(\"The resultant dictionary is : \")\n",
        "print(my_ordered_dict)"
      ],
      "metadata": {
        "colab": {
          "base_uri": "https://localhost:8080/"
        },
        "id": "0RumF99eP1pw",
        "outputId": "804f8bac-0408-4490-f9b1-d66e04040fde"
      },
      "execution_count": null,
      "outputs": [
        {
          "output_type": "stream",
          "name": "stdout",
          "text": [
            "The dictionary is :\n",
            "OrderedDict([('Hello', '1'), ('World', '2')])\n",
            "The resultant dictionary is : \n",
            "OrderedDict([('Good Morning', '10'), ('Hello', '1'), ('World', '2')])\n"
          ]
        }
      ]
    },
    {
      "cell_type": "markdown",
      "source": [
        "6. Write a Python program to check order of character in string using OrderedDict()?"
      ],
      "metadata": {
        "id": "kAcNrUZuSP1r"
      }
    },
    {
      "cell_type": "code",
      "source": [
        "from collections import OrderedDict\n",
        "\n",
        "def checkOrder(input, pattern):\n",
        "\tdict = OrderedDict.fromkeys(input)\n",
        "\tptrlen = 0\n",
        "\tfor key,value in dict.items():\n",
        "\t\tif (key == pattern[ptrlen]):\n",
        "\t\t\tptrlen = ptrlen + 1\n",
        "\t\tif (ptrlen == (len(pattern))):\n",
        "\t\t\treturn 'true'\n",
        "\n",
        "\treturn 'false'\n",
        "\n",
        "if __name__ == \"__main__\":\n",
        "\tinput = 'Welcome Home'\n",
        "\tpattern = 'el'\n",
        "\tprint (checkOrder(input,pattern))\n"
      ],
      "metadata": {
        "colab": {
          "base_uri": "https://localhost:8080/"
        },
        "id": "POyHX-HZSAQG",
        "outputId": "41315329-9440-4cbd-9fb7-7782afe843eb"
      },
      "execution_count": null,
      "outputs": [
        {
          "output_type": "stream",
          "name": "stdout",
          "text": [
            "true\n"
          ]
        }
      ]
    },
    {
      "cell_type": "markdown",
      "source": [
        "7. Write a Python program to sort Python Dictionaries by Key or Value?"
      ],
      "metadata": {
        "id": "CZaCdqEdWO_6"
      }
    },
    {
      "cell_type": "code",
      "source": [
        "dict1 = {'A':10,'B': 9,'c' : 2 }\n",
        "sorted(dict1.values())"
      ],
      "metadata": {
        "colab": {
          "base_uri": "https://localhost:8080/"
        },
        "id": "qlob05UbV4pq",
        "outputId": "2b0bb17c-0490-4955-9550-564d382caa7d"
      },
      "execution_count": null,
      "outputs": [
        {
          "output_type": "execute_result",
          "data": {
            "text/plain": [
              "[2, 9, 10]"
            ]
          },
          "metadata": {},
          "execution_count": 40
        }
      ]
    }
  ]
}