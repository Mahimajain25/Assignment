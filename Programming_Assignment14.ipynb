{
  "nbformat": 4,
  "nbformat_minor": 0,
  "metadata": {
    "colab": {
      "name": "Programming_Assignment14.ipynb",
      "provenance": []
    },
    "kernelspec": {
      "name": "python3",
      "display_name": "Python 3"
    },
    "language_info": {
      "name": "python"
    }
  },
  "cells": [
    {
      "cell_type": "markdown",
      "source": [
        "1. Define a class with a generator which can iterate the numbers, which are divisible by\n",
        "7, between a given range 0 and n."
      ],
      "metadata": {
        "id": "m4s20ESnsXYo"
      }
    },
    {
      "cell_type": "code",
      "execution_count": null,
      "metadata": {
        "colab": {
          "base_uri": "https://localhost:8080/"
        },
        "id": "Tkc1U-K2sIYS",
        "outputId": "00d9ee83-15e0-4031-ecc2-d1be263bfccb"
      },
      "outputs": [
        {
          "output_type": "stream",
          "name": "stdout",
          "text": [
            "Enter a number : 15\n",
            "0 True\n",
            "1 False\n",
            "2 False\n",
            "3 False\n",
            "4 False\n",
            "5 False\n",
            "6 False\n",
            "7 True\n",
            "8 False\n",
            "9 False\n",
            "10 False\n",
            "11 False\n",
            "12 False\n",
            "13 False\n",
            "14 True\n"
          ]
        }
      ],
      "source": [
        "class divi :\n",
        "\n",
        "  def __init__(self):\n",
        "    pass\n",
        "  \n",
        "  def check_div(self):\n",
        "    n = int(input(\"Enter a number : \"))\n",
        "    for i in range(n):\n",
        "      if i % 7 == 0:\n",
        "        print(i,\"True\")\n",
        "      else:\n",
        "        print(i,\"False\")\n",
        "\n",
        "d = divi()\n",
        "d.check_div()\n"
      ]
    },
    {
      "cell_type": "markdown",
      "source": [
        "2. Write a program to compute the frequency of the words from the input. The output\n",
        "should output after sorting the key alphanumerically.\n",
        "Suppose the following input is supplied to the program:\n",
        "New to Python or choosing between Python 2 and Python 3? Read Python 2 or\n",
        "Python 3.\n",
        "Then, the output should be:\n",
        "2:2\n",
        "3.:1\n",
        "3?:1\n",
        "New:1\n",
        "Python:5\n",
        "Read:1\n",
        "and:1\n",
        "between:1\n",
        "choosing:1\n",
        "or:2\n",
        "to:1"
      ],
      "metadata": {
        "id": "q4CnkEAnnfYz"
      }
    },
    {
      "cell_type": "code",
      "source": [
        "from collections import Counter\n",
        "\n",
        "ss = input(\"Enter a string\").split()\n",
        "ss = Counter(ss)         # returns key & frequency as a dictionary\n",
        "ss = sorted(ss.items())  # returns as a tuple list\n",
        "\n",
        "for i in ss:\n",
        "    print(i[0],i[1])\n",
        "    "
      ],
      "metadata": {
        "id": "s8kfu_V0tF_X",
        "colab": {
          "base_uri": "https://localhost:8080/"
        },
        "outputId": "7e1c9414-49dd-48bd-c349-1f5b0d97d2db"
      },
      "execution_count": null,
      "outputs": [
        {
          "output_type": "stream",
          "name": "stdout",
          "text": [
            "Enter a stringNew to Python or choosing between Python 2 and Python 3? Read Python 2 or Python 3.\n",
            "2 2\n",
            "3. 1\n",
            "3? 1\n",
            "New 1\n",
            "Python 5\n",
            "Read 1\n",
            "and 1\n",
            "between 1\n",
            "choosing 1\n",
            "or 2\n",
            "to 1\n"
          ]
        }
      ]
    },
    {
      "cell_type": "markdown",
      "source": [
        "3. Define a class Person and its two child classes: Male and Female. All classes have a\n",
        "method &quot;getGender&quot; which can print &quot;Male&quot; for Male class and &quot;Female&quot; for Female\n",
        "class."
      ],
      "metadata": {
        "id": "IKFbylL7qazg"
      }
    },
    {
      "cell_type": "code",
      "source": [
        "class Person:\n",
        "  \n",
        "  def __init__(self):\n",
        "    print(\"This is person class\")\n",
        "  \n",
        "  def getGender(self):\n",
        "    print(\"This is person class function\")\n",
        "\n",
        "class Male(Person):\n",
        "  \n",
        "  def __init__(self):\n",
        "    print(\"This is Male class\")\n",
        "  \n",
        "  def getGender(self):\n",
        "    print(\"Male child Class function\")\n",
        "\n",
        "class Female(Person):\n",
        "  \n",
        "  def __init__(self):\n",
        "    print(\"This is Female class\")\n",
        "\n",
        "  def getGender(self):\n",
        "    print(\"Female Child Class function\")\n",
        "\n",
        "\n",
        "m = Male()\n",
        "f = Female()\n",
        "m.getGender()\n",
        "f.getGender()"
      ],
      "metadata": {
        "id": "wrZu5pBgtbW0",
        "colab": {
          "base_uri": "https://localhost:8080/"
        },
        "outputId": "c189eaca-dbd2-4ba9-8ef1-089b94ec670a"
      },
      "execution_count": null,
      "outputs": [
        {
          "output_type": "stream",
          "name": "stdout",
          "text": [
            "This is Male class\n",
            "This is Female class\n",
            "Male child Class function\n",
            "Female Child Class function\n"
          ]
        }
      ]
    },
    {
      "cell_type": "markdown",
      "source": [
        "4. Please write a program to generate all sentences where subject is in [&quot;I&quot;, &quot;You&quot;] and\n",
        "verb is in [&quot;Play&quot;, &quot;Love&quot;] and the object is in [&quot;Hockey&quot;,&quot;Football&quot;]."
      ],
      "metadata": {
        "id": "BvBiYk4WuQ9a"
      }
    },
    {
      "cell_type": "code",
      "source": [
        "sub =  [\"I\", \"You\"]\n",
        "verb = [\"Play\", \"Love\"]\n",
        "obj = [\"Hockey\",\"Football\"]\n",
        "\n",
        "for s in sub:\n",
        "  for v in verb:\n",
        "    for o in obj:\n",
        "      print(s,v,o)"
      ],
      "metadata": {
        "id": "51XLxwSQp-oW",
        "colab": {
          "base_uri": "https://localhost:8080/"
        },
        "outputId": "3f81e56c-9dd0-4a1a-c109-bfefa1f93891"
      },
      "execution_count": null,
      "outputs": [
        {
          "output_type": "stream",
          "name": "stdout",
          "text": [
            "I Play Hockey\n",
            "I Play Football\n",
            "I Love Hockey\n",
            "I Love Football\n",
            "You Play Hockey\n",
            "You Play Football\n",
            "You Love Hockey\n",
            "You Love Football\n"
          ]
        }
      ]
    },
    {
      "cell_type": "markdown",
      "source": [
        "5. Please write a program to compress and decompress the string &quot;hello world!hello\n",
        "world!hello world!hello world!&quot;."
      ],
      "metadata": {
        "id": "_pwPRX33wJNe"
      }
    },
    {
      "cell_type": "code",
      "source": [
        "import zlib\n",
        "s = 'hello world!hello world!hello world!hello world!'\n",
        "# In Python 3 zlib.compress() accepts only DataType <bytes>\n",
        "y = bytes(s, 'utf-8')\n",
        "compress = zlib.compress(y)\n",
        "print(\"size of original: \" + str(len(s)))\n",
        "print(\"size of compressed: \" + str(len(compress)))\n",
        "print(\"compresssed sring and encoded string\", compress)\n",
        "decompress = zlib.decompress(compress)\n",
        "print(decompress)\n",
        "print(\"size of decompressed: \" + str(len(decompress)))"
      ],
      "metadata": {
        "colab": {
          "base_uri": "https://localhost:8080/"
        },
        "id": "wprJQxxCv4rL",
        "outputId": "dc7557e7-b535-464a-80c6-c8f9c14c84c7"
      },
      "execution_count": null,
      "outputs": [
        {
          "output_type": "stream",
          "name": "stdout",
          "text": [
            "size of original: 48\n",
            "size of compressed: 23\n",
            "compresssed sring and encoded string b'x\\x9c\\xcbH\\xcd\\xc9\\xc9W(\\xcf/\\xcaIQ\\xcc \\x82\\r\\x00\\xbd[\\x11\\xf5'\n",
            "b'hello world!hello world!hello world!hello world!'\n",
            "size of decompressed: 48\n"
          ]
        }
      ]
    },
    {
      "cell_type": "markdown",
      "source": [
        "6. Please write a binary search function which searches an item in a sorted list. The\n",
        "function should return the index of element to be searched in the list."
      ],
      "metadata": {
        "id": "xfxzI0ZyzIax"
      }
    },
    {
      "cell_type": "code",
      "source": [
        "def binary_search_Ascending(l, target):\n",
        "    lower = 0\n",
        "    upper = len(l)\n",
        "    print('List Length:',upper)\n",
        "    while lower < upper:\n",
        "        mid = (lower + upper) // 2\n",
        "        #print('Middle Value:',mid)\n",
        "        value = l[mid]\n",
        "        if target == value:\n",
        "            return mid\n",
        "        elif target > value:\n",
        "            lower = mid\n",
        "        elif target < value:\n",
        "            upper = mid\n",
        "\n",
        "try:\n",
        "  l1 = [0,1,2,3,4,5]\n",
        "  print(\"Sorted list \", l1)\n",
        "  num = int(input(\"Enter a number to search  in list : \"))\n",
        "  if (num in l1):\n",
        "    print('The Value Found at Index:',binary_search_Ascending(l1, num))\n",
        "except Exception as e:\n",
        "  print(e)s"
      ],
      "metadata": {
        "colab": {
          "base_uri": "https://localhost:8080/"
        },
        "id": "nRBH4osbwGAh",
        "outputId": "bdbd94ee-f0f8-4348-afe7-a930cf23f36e"
      },
      "execution_count": null,
      "outputs": [
        {
          "output_type": "stream",
          "name": "stdout",
          "text": [
            "Sorted list  [0, 1, 2, 3, 4, 5]\n",
            "Enter a number to search  in list : 3\n",
            "List Length: 6\n",
            "The Value Found at Index: 3\n"
          ]
        }
      ]
    },
    {
      "cell_type": "code",
      "source": [
        ""
      ],
      "metadata": {
        "id": "vRhCq5Dd4Pnt"
      },
      "execution_count": null,
      "outputs": []
    }
  ]
}