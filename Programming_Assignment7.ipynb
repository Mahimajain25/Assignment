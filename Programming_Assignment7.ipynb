{
  "nbformat": 4,
  "nbformat_minor": 0,
  "metadata": {
    "colab": {
      "name": "Programming_Assignment7.ipynb",
      "provenance": [],
      "collapsed_sections": []
    },
    "kernelspec": {
      "name": "python3",
      "display_name": "Python 3"
    },
    "language_info": {
      "name": "python"
    }
  },
  "cells": [
    {
      "cell_type": "markdown",
      "source": [
        "1. Write a Python Program to find sum of array?"
      ],
      "metadata": {
        "id": "y7uZD4RxB4lL"
      }
    },
    {
      "cell_type": "code",
      "metadata": {
        "id": "om8uXijhU0wR",
        "colab": {
          "base_uri": "https://localhost:8080/"
        },
        "outputId": "0d633314-60c8-47a3-9d1e-2669346e23b8"
      },
      "source": [
        "arr = [1,2,3,4,5,10]\n",
        "arr_sum = sum(arr)\n",
        "print(\"Sum of Array is \",arr_sum)"
      ],
      "execution_count": null,
      "outputs": [
        {
          "output_type": "stream",
          "name": "stdout",
          "text": [
            "Sum of Array is  25\n"
          ]
        }
      ]
    },
    {
      "cell_type": "markdown",
      "source": [
        "2. Write a Python Program to find largest element in an array?"
      ],
      "metadata": {
        "id": "M5qW168yDBvS"
      }
    },
    {
      "cell_type": "code",
      "source": [
        "arr = [1,2,3,4,5,10,50,50,100,5,1,25,55,90]\n",
        "arr_max = max(arr)\n",
        "print(arr_max)"
      ],
      "metadata": {
        "colab": {
          "base_uri": "https://localhost:8080/"
        },
        "id": "sEUwJcqaC6mP",
        "outputId": "ebd435d4-7133-40da-e3a9-eaf74b54c8cc"
      },
      "execution_count": null,
      "outputs": [
        {
          "output_type": "stream",
          "name": "stdout",
          "text": [
            "100\n"
          ]
        }
      ]
    },
    {
      "cell_type": "markdown",
      "source": [
        "3. Write a Python Program for array rotation?"
      ],
      "metadata": {
        "id": "h9JgGOKWE6Zm"
      }
    },
    {
      "cell_type": "code",
      "source": [
        "arr = [1,2,3,4,5,10]\n"
      ],
      "metadata": {
        "id": "k7ECgJUaDsbB"
      },
      "execution_count": null,
      "outputs": []
    },
    {
      "cell_type": "code",
      "source": [
        "arr = [1,2,3,4,5,10]\n",
        "arr.reverse()\n",
        "print(arr)"
      ],
      "metadata": {
        "colab": {
          "base_uri": "https://localhost:8080/"
        },
        "id": "k-uA0l-WFvhC",
        "outputId": "38a5c267-abdd-4f1e-f248-64dea89eaa5f"
      },
      "execution_count": null,
      "outputs": [
        {
          "output_type": "stream",
          "name": "stdout",
          "text": [
            "[10, 5, 4, 3, 2, 1]\n"
          ]
        }
      ]
    },
    {
      "cell_type": "markdown",
      "source": [
        "4. Write a Python Program to Split the array and add the first part to the end?\n"
      ],
      "metadata": {
        "id": "5SYGpUygJkPs"
      }
    },
    {
      "cell_type": "code",
      "source": [
        "arr = [1,2,3,4,5,10]\n",
        "print(\"Before Spliting \",arr)\n",
        "pos = int(input(\"Enter the postion for spliting\"))\n",
        "temp = arr[:pos]\n",
        "arr = arr[2:] + temp[:]\n",
        "print(\"After Spliting \",arr)\n"
      ],
      "metadata": {
        "colab": {
          "base_uri": "https://localhost:8080/"
        },
        "id": "UAtl1f8qIH5D",
        "outputId": "e919bf60-09e2-47ed-e56e-b0a7b4c1c243"
      },
      "execution_count": null,
      "outputs": [
        {
          "output_type": "stream",
          "name": "stdout",
          "text": [
            "Before Spliting  [1, 2, 3, 4, 5, 10]\n",
            "Enter the postion for spliting2\n",
            "After Spliting  [3, 4, 5, 10, 1, 2]\n"
          ]
        }
      ]
    },
    {
      "cell_type": "markdown",
      "source": [
        "5. Write a Python Program to check if given array is Monotonic?"
      ],
      "metadata": {
        "id": "X3spLRSHJmy4"
      }
    },
    {
      "cell_type": "code",
      "source": [
        "def isMonotonic(A):\n",
        "   return (all(A[i] <= A[i + 1] for i in range(len(A) - 1)) or\n",
        "      all(A[i] >= A[i + 1] for i in range(len(A) - 1)))\n",
        "\n",
        "A = [1,2,3,4,7,8]\n",
        "print(A,isMonotonic(A))\n",
        "B = [1,5,2,4,1,8]\n",
        "print(B,isMonotonic(B))"
      ],
      "metadata": {
        "colab": {
          "base_uri": "https://localhost:8080/"
        },
        "id": "3ZUZOLnrl6DC",
        "outputId": "7b241e14-5678-41e0-f555-3929b2c6feb8"
      },
      "execution_count": 1,
      "outputs": [
        {
          "output_type": "stream",
          "name": "stdout",
          "text": [
            "[1, 2, 3, 4, 7, 8] True\n",
            "[1, 5, 2, 4, 1, 8] False\n"
          ]
        }
      ]
    },
    {
      "cell_type": "code",
      "source": [
        ""
      ],
      "metadata": {
        "id": "MUuhrZ1sqSPl"
      },
      "execution_count": null,
      "outputs": []
    }
  ]
}