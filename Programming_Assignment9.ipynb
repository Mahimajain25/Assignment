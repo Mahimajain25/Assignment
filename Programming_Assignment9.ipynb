{
  "nbformat": 4,
  "nbformat_minor": 0,
  "metadata": {
    "colab": {
      "name": "Programming_Assignment9.ipynb",
      "provenance": [],
      "collapsed_sections": []
    },
    "kernelspec": {
      "name": "python3",
      "display_name": "Python 3"
    },
    "language_info": {
      "name": "python"
    }
  },
  "cells": [
    {
      "cell_type": "markdown",
      "source": [
        "1. Write a Python program to check if the given number is a Disarium Number?"
      ],
      "metadata": {
        "id": "DcLCpkqiVCoJ"
      }
    },
    {
      "cell_type": "code",
      "execution_count": null,
      "metadata": {
        "colab": {
          "base_uri": "https://localhost:8080/"
        },
        "id": "Gd8CKTaFUIty",
        "outputId": "252065b8-65b5-4fee-e931-9b657651aed6"
      },
      "outputs": [
        {
          "output_type": "stream",
          "name": "stdout",
          "text": [
            "Enter a number 175\n",
            "175 number is disarium number\n"
          ]
        }
      ],
      "source": [
        "#A disarium number is a number in which the sum of the digits to the power of their respective position is equal to the number itself (position is counted from left to right starting from 1)\n",
        "#Example of a Disarium number is 175,\n",
        "#1¹ + 7² + 5³ = 1 + 49 + 125= 175\n",
        "\n",
        "num = input(\"Enter a number \")\n",
        "l = [int(i) for i in num]\n",
        "sum = 0 \n",
        "for i in range(len(l)):\n",
        "  sum = sum + pow(l[i],i+1)\n",
        "if (int(num) == sum):\n",
        "  print(num,'number is disarium number')\n",
        "else:\n",
        "  print(num,'number is not disarium number')\n"
      ]
    },
    {
      "cell_type": "markdown",
      "source": [
        "2. Write a Python program to print all disarium numbers between 1 to 100?"
      ],
      "metadata": {
        "id": "_ZYw4WVadT1O"
      }
    },
    {
      "cell_type": "code",
      "source": [
        "import math\n",
        "print(\"Enter a range:\")\n",
        "range1=int(input(\"Enter start num \"))\n",
        "range2=int(input(\"Enter end num \"))\n",
        "print(\"Disarium numbers between \",range1,\" and \",range2,\" are: \")\n",
        "for i in range(range1,range2+1):\n",
        "    num =i\n",
        "    c = 0\n",
        "    while num != 0:\n",
        "        num //= 10\n",
        "        c += 1\n",
        "    num = i\n",
        "    sum = 0\n",
        "    while num != 0:\n",
        "        rem = num % 10\n",
        "        sum += math.pow(rem, c)\n",
        "        num //= 10\n",
        "        c -= 1\n",
        "    if sum == i:\n",
        "        print(i,end=\" \")"
      ],
      "metadata": {
        "colab": {
          "base_uri": "https://localhost:8080/"
        },
        "id": "epjTZ2sj0f_L",
        "outputId": "5efc2b93-0906-45da-ee7d-8e785efd61be"
      },
      "execution_count": null,
      "outputs": [
        {
          "output_type": "stream",
          "name": "stdout",
          "text": [
            "Enter a range:\n",
            "Enter start num 1\n",
            "Enter end num 100\n",
            "Disarium numbers between  1  and  100  are: \n",
            "1 2 3 4 5 6 7 8 9 89 "
          ]
        }
      ]
    },
    {
      "cell_type": "markdown",
      "source": [
        "\n",
        "3. Write a Python program to check if the given number is Happy Number?"
      ],
      "metadata": {
        "id": "YUSAvImJdUBV"
      }
    },
    {
      "cell_type": "code",
      "source": [
        "### A number is called happy if it leads to 1 after a sequence of steps wherein each step number is replaced by the sum of squares of its digit that is if we start with Happy Number and keep replacing it with digits square sum, we reach 1\n",
        "def happy_num(num):\n",
        "  rem = sum = 0\n",
        "  while (num > 0 ):\n",
        "    rem = num % 10\n",
        "    sum = sum + (rem*rem)\n",
        "    num = num//10\n",
        "  return sum\n",
        "\n",
        "num = int(input(\"Enter a number \"))\n",
        "result = num \n",
        "while(result != 1 and  result != 4):\n",
        "    result = happy_num(result)  \n",
        "\n",
        "if(result == 1 and result != 4):  \n",
        "    print(str(num) + \" is a happy number\")\n",
        "else:\n",
        "  print(str(num) + \" is not a happy number\")\n",
        "\n"
      ],
      "metadata": {
        "colab": {
          "base_uri": "https://localhost:8080/"
        },
        "id": "W1DkaNOR0xTT",
        "outputId": "788c4511-09ec-42f0-8455-f62afe99cc30"
      },
      "execution_count": null,
      "outputs": [
        {
          "output_type": "stream",
          "name": "stdout",
          "text": [
            "Enter a number 82\n",
            "82 is a happy number\n"
          ]
        }
      ]
    },
    {
      "cell_type": "markdown",
      "source": [
        "4. Write a Python program to print all happy numbers between 1 and 100?"
      ],
      "metadata": {
        "id": "4I_tq7K7pBuj"
      }
    },
    {
      "cell_type": "code",
      "source": [
        "def happy_num(num):\n",
        "  rem = sum = 0\n",
        "  while(num > 0 ):\n",
        "    rem = num % 10\n",
        "    sum = sum + (rem*rem)\n",
        "    num = num // 10\n",
        "  return sum\n",
        "\n",
        "print(\"list of Happy number between 1 to 100\")\n",
        "for i in range(1,101):\n",
        "  result = i \n",
        "  while(result != 1 and  result != 4):\n",
        "    result = happy_num(result)  \n",
        "  if (result == 1):\n",
        "    print(i)\n",
        "  "
      ],
      "metadata": {
        "colab": {
          "base_uri": "https://localhost:8080/"
        },
        "id": "-SkIiH4WBBZ2",
        "outputId": "03efc481-b9a0-4a15-f442-68bfcef7869d"
      },
      "execution_count": null,
      "outputs": [
        {
          "output_type": "stream",
          "name": "stdout",
          "text": [
            "list of Happy number between 1 to 100\n",
            "1\n",
            "7\n",
            "10\n",
            "13\n",
            "19\n",
            "23\n",
            "28\n",
            "31\n",
            "32\n",
            "44\n",
            "49\n",
            "68\n",
            "70\n",
            "79\n",
            "82\n",
            "86\n",
            "91\n",
            "94\n",
            "97\n",
            "100\n"
          ]
        }
      ]
    },
    {
      "cell_type": "markdown",
      "source": [
        "5. Write a Python program to determine whether the given number is a Harshad Number?"
      ],
      "metadata": {
        "id": "X3S2Sy9Hf9WE"
      }
    },
    {
      "cell_type": "code",
      "source": [
        "def harshad_num(num):\n",
        "  rem = sum = 0\n",
        "  while(num > 0):\n",
        "    rem = num % 10\n",
        "    sum = sum + rem\n",
        "    num = num // 10\n",
        "  return sum\n",
        "\n",
        "num  = int(input(\"Enter a number \"))\n",
        "harshadnum = harshad_num(num)\n",
        "result = num % harshadnum\n",
        "if(result == 0):\n",
        "  print(\"Entered num\",num,\"is Harshad number\")\n",
        "else:\n",
        "  print(\"Entered num\",num,\"is not Harshad number\")"
      ],
      "metadata": {
        "colab": {
          "base_uri": "https://localhost:8080/"
        },
        "id": "KBzBa14lcRRv",
        "outputId": "14d8f312-c071-475e-d7e0-7655a41a3c9a"
      },
      "execution_count": null,
      "outputs": [
        {
          "output_type": "stream",
          "name": "stdout",
          "text": [
            "Enter a number 156\n",
            "Entered num 156 is Harshad number\n"
          ]
        }
      ]
    },
    {
      "cell_type": "markdown",
      "source": [
        "6. Write a Python program to print all pronic numbers between 1 and 100?"
      ],
      "metadata": {
        "id": "En672nTUicVI"
      }
    },
    {
      "cell_type": "code",
      "source": [
        "print(\"Pronic num between 1 to 100\")\n",
        "for i in range(1,100):\n",
        "  result = i * (i+1)\n",
        "  if(result >100):\n",
        "    break\n",
        "  print(result)\n"
      ],
      "metadata": {
        "colab": {
          "base_uri": "https://localhost:8080/"
        },
        "id": "uhrpuJhHhtDq",
        "outputId": "2ea47a67-52d3-4b46-a59b-c581b6ebf366"
      },
      "execution_count": null,
      "outputs": [
        {
          "output_type": "stream",
          "name": "stdout",
          "text": [
            "Pronic num between 1 to 100\n",
            "2\n",
            "6\n",
            "12\n",
            "20\n",
            "30\n",
            "42\n",
            "56\n",
            "72\n",
            "90\n"
          ]
        }
      ]
    }
  ]
}