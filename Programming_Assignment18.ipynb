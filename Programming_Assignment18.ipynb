{
  "nbformat": 4,
  "nbformat_minor": 0,
  "metadata": {
    "colab": {
      "name": "Programming_Assignment18.ipynb",
      "provenance": []
    },
    "kernelspec": {
      "name": "python3",
      "display_name": "Python 3"
    },
    "language_info": {
      "name": "python"
    }
  },
  "cells": [
    {
      "cell_type": "markdown",
      "source": [
        "1. Create a function that takes a list of non-negative integers and strings and return a new list\n",
        "without the strings.\n",
        "Examples\n",
        "filter_list([1, 2, &quot;aasf&quot;, &quot;1&quot;, &quot;123&quot;, 123]) ➞ [1, 2, 123]"
      ],
      "metadata": {
        "id": "Cl-qIJVZU6qH"
      }
    },
    {
      "cell_type": "code",
      "execution_count": null,
      "metadata": {
        "colab": {
          "base_uri": "https://localhost:8080/"
        },
        "id": "53FgMGcoU4bI",
        "outputId": "d305b885-7004-47b4-ab66-5d6e426f9027"
      },
      "outputs": [
        {
          "output_type": "execute_result",
          "data": {
            "text/plain": [
              "[1, 2, 123]"
            ]
          },
          "metadata": {},
          "execution_count": 26
        }
      ],
      "source": [
        "def filter_list(l1):\n",
        "  filter_l = []\n",
        "  for i in l1:\n",
        "    if (type(i) == str):\n",
        "      pass\n",
        "    if(type(i)==int):\n",
        "      filter_l.append(i)\n",
        "  return filter_l\n",
        "\n",
        "l1 = [1, 2, 'aasf', '1', '123', 123]\n",
        "filter_list(l1)\n"
      ]
    },
    {
      "cell_type": "markdown",
      "source": [
        "2. The &quot;Reverser&quot; takes a string as input and returns that string in reverse order, with the\n",
        "opposite case.\n",
        "Examples\n",
        "reverse(&quot;Hello World&quot;) ➞ &quot;DLROw OLLEh&quot;"
      ],
      "metadata": {
        "id": "DpE12UwrbC20"
      }
    },
    {
      "cell_type": "code",
      "source": [
        "def reverse(s):\n",
        "  rev = ''\n",
        "  count = len(s)-1\n",
        "  while(count >=0):\n",
        "    rev = rev + s[count]\n",
        "    count = count - 1\n",
        "  return rev.swapcase()\n",
        "\n",
        "s = \"Hello World\"\n",
        "print(\"Original string \", s)\n",
        "print(\"Reverse string \", reverse(s))"
      ],
      "metadata": {
        "colab": {
          "base_uri": "https://localhost:8080/"
        },
        "id": "2B8Tf2PrVh5h",
        "outputId": "cf588a5f-d1a1-4194-d2b7-2c781f3069ad"
      },
      "execution_count": null,
      "outputs": [
        {
          "output_type": "stream",
          "name": "stdout",
          "text": [
            "Original string  Hello World\n",
            "Reverse string  DLROw OLLEh\n"
          ]
        }
      ]
    },
    {
      "cell_type": "markdown",
      "source": [
        "3. You can assign variables from lists like this:\n",
        "lst = [1, 2, 3, 4, 5, 6]\n",
        "first = lst[0]\n",
        "middle = lst[1:-1]\n",
        "last = lst[-1]\n",
        "print(first) ➞ outputs 1\n",
        "print(middle) ➞ outputs [2, 3, 4, 5]\n",
        "print(last) ➞ outputs 6\n",
        "With Python 3, you can assign variables from lists in a much more succinct way. Create\n",
        "variables first, middle and last from the given list using destructuring assignment\n",
        "(check the Resources tab for some examples), where:\n",
        "first ➞ 1\n",
        "middle ➞ [2, 3, 4, 5]\n",
        "last ➞ 6\n",
        "\n",
        "Your task is to unpack the list writeyourcodehere into three variables, being first,\n",
        "middle, and last, with middle being everything in between the first and last element. Then\n",
        "print all three variables."
      ],
      "metadata": {
        "id": "uZob2icypB7C"
      }
    },
    {
      "cell_type": "code",
      "source": [
        "lst = [1, 2, 3, 4, 5, 6]\n",
        "first ,*middle,last = lst\n",
        "print(\"First\",first,\"Middle\",middle,\"Last\",last)"
      ],
      "metadata": {
        "colab": {
          "base_uri": "https://localhost:8080/"
        },
        "id": "R6Ay-DJum_a5",
        "outputId": "57801d48-81f2-4d93-8893-95565c1538ca"
      },
      "execution_count": null,
      "outputs": [
        {
          "output_type": "stream",
          "name": "stdout",
          "text": [
            "First 1 Middle [2, 3, 4, 5] Last 6\n"
          ]
        }
      ]
    },
    {
      "cell_type": "markdown",
      "source": [
        ""
      ],
      "metadata": {
        "id": "rqYwQkyNtOi4"
      }
    },
    {
      "cell_type": "markdown",
      "source": [
        "4. Write a function that calculates the factorial of a number recursively.\n",
        "Examples\n",
        "factorial(5) ➞ 120\n",
        "factorial(3) ➞ 6\n",
        "factorial(1) ➞ 1\n",
        "factorial(0) ➞ 1"
      ],
      "metadata": {
        "id": "bYLI2V9_tOtU"
      }
    },
    {
      "cell_type": "code",
      "source": [
        "def fact(x):\n",
        "  if(x == 0 or x==1):\n",
        "    return 1\n",
        "  else:\n",
        "    return x * fact(x-1)\n",
        "\n",
        "print(\"factorial of 5 is \",fact(5))\n",
        "print(\"factorial of 3 is \",fact(3))\n",
        "print(\"factorial of 1 is \",fact(1))\n"
      ],
      "metadata": {
        "colab": {
          "base_uri": "https://localhost:8080/"
        },
        "id": "jb3QOMB4pjn9",
        "outputId": "d5c0d664-87d7-494c-e1e9-4a1edd144bbb"
      },
      "execution_count": null,
      "outputs": [
        {
          "output_type": "stream",
          "name": "stdout",
          "text": [
            "factorial of 5 is  120\n",
            "factorial of 3 is  6\n",
            "factorial of 1 is  1\n"
          ]
        }
      ]
    },
    {
      "cell_type": "markdown",
      "source": [
        "5. Write a function that moves all elements of one type to the end of the list.\n",
        "Examples\n",
        "move_to_end([1, 3, 2, 4, 4, 1], 1) ➞ [3, 2, 4, 4, 1, 1]\n",
        "Move all the 1s to the end of the array.\n",
        "move_to_end([7, 8, 9, 1, 2, 3, 4], 9) ➞ [7, 8, 1, 2, 3, 4, 9]\n",
        "move_to_end([&quot;a&quot;, &quot;a&quot;, &quot;a&quot;, &quot;b&quot;], &quot;a&quot;) ➞ [&quot;b&quot;, &quot;a&quot;, &quot;a&quot;, &quot;a&quot;]"
      ],
      "metadata": {
        "id": "puN55CedtyFW"
      }
    },
    {
      "cell_type": "code",
      "source": [
        "def move_to_end(l1,n):\n",
        "  for i in range(len(l1)):\n",
        "    if(l1[i]==n):\n",
        "      l1.append(l1[i])\n",
        "      l1.remove(l1[i])\n",
        "  return l1\n",
        "\n",
        "l1 = [1, 3, 2, 4, 4, 1]\n",
        "l2 = [7, 8, 9, 1, 2, 3, 4]\n",
        "l3 = ['a','a','a','b']\n",
        "print(\"list 1 is \",l1, \"moving to end '1'\",move_to_end(l1,1))\n",
        "print(\"list 2 is \",l2, \"moving to end '9'\",move_to_end(l2,9))\n",
        "print(\"list 3 is \",l3, \"moving to end 'a'\",move_to_end(l3,'a'))"
      ],
      "metadata": {
        "colab": {
          "base_uri": "https://localhost:8080/"
        },
        "id": "ZzHdLrLctm7o",
        "outputId": "40b90c2a-3386-482e-d3aa-f1f7c4426c71"
      },
      "execution_count": null,
      "outputs": [
        {
          "output_type": "stream",
          "name": "stdout",
          "text": [
            "list 1 is  [3, 2, 4, 4, 1, 1] moving to end '1' [3, 2, 4, 4, 1, 1]\n",
            "list 2 is  [7, 8, 1, 2, 3, 4, 9] moving to end '9' [7, 8, 1, 2, 3, 4, 9]\n",
            "list 3 is  ['b', 'a', 'a', 'a'] moving to end 'a' ['b', 'a', 'a', 'a']\n"
          ]
        }
      ]
    },
    {
      "cell_type": "code",
      "source": [
        ""
      ],
      "metadata": {
        "id": "61wTVqKCv35N"
      },
      "execution_count": null,
      "outputs": []
    }
  ]
}