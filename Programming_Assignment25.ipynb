{
  "nbformat": 4,
  "nbformat_minor": 0,
  "metadata": {
    "colab": {
      "name": "Programming_Assignment25.ipynb",
      "provenance": []
    },
    "kernelspec": {
      "name": "python3",
      "display_name": "Python 3"
    },
    "language_info": {
      "name": "python"
    }
  },
  "cells": [
    {
      "cell_type": "markdown",
      "source": [
        "1. Create a function that takes three integer arguments (a, b, c) and returns the amount of\n",
        "integers which are of equal value.\n",
        "Examples\n",
        "equal(3, 4, 3) ➞ 2\n",
        "equal(1, 1, 1) ➞ 3\n",
        "equal(3, 4, 1) ➞ 0\n",
        "Notes\n",
        "Your function must return 0, 2 or 3."
      ],
      "metadata": {
        "id": "ugejiBydfcPv"
      }
    },
    {
      "cell_type": "code",
      "execution_count": null,
      "metadata": {
        "colab": {
          "base_uri": "https://localhost:8080/"
        },
        "id": "wpuUro8qeauP",
        "outputId": "ae957257-ea31-4029-bb6b-915bad806c13"
      },
      "outputs": [
        {
          "output_type": "stream",
          "name": "stdout",
          "text": [
            "Integer are 3, 3, 1 duplicate are 2\n",
            "Integer are 1, 1, 1 duplicate are 3\n",
            "Integer are 3, 4, 1 duplicate are 0\n"
          ]
        }
      ],
      "source": [
        "def equal(a,b,c):\n",
        "    num = 0\n",
        "    if a == b and a == c :\n",
        "        num = 3\n",
        "    elif a == b or a == c :\n",
        "        num = 2\n",
        "    else:\n",
        "        num = 0\n",
        "    return num\n",
        "print(\"Integer are 3, 3, 1 duplicate are\",equal(3, 3, 1))\n",
        "print(\"Integer are 1, 1, 1 duplicate are\",equal(1, 1, 1))\n",
        "print(\"Integer are 3, 4, 1 duplicate are\",equal(3, 4, 1))"
      ]
    },
    {
      "cell_type": "markdown",
      "source": [
        "2. Write a function that converts a dictionary into a list of keys-values tuples.\n",
        "Examples\n",
        "dict_to_list({\n",
        "&quot;D&quot;: 1,\n",
        "&quot;B&quot;: 2,\n",
        "&quot;C&quot;: 3\n",
        "}) ➞ [(&quot;B&quot;, 2), (&quot;C&quot;, 3), (&quot;D&quot;, 1)]\n",
        "dict_to_list({\n",
        "&quot;likes&quot;: 2,\n",
        "&quot;dislikes&quot;: 3,\n",
        "&quot;followers&quot;: 10\n",
        "}) ➞ [(&quot;dislikes&quot;, 3), (&quot;followers&quot;, 10), (&quot;likes&quot;, 2)]\n",
        "Notes\n",
        "Return the elements in the list in alphabetical order."
      ],
      "metadata": {
        "id": "2cVz3Jo2iBk1"
      }
    },
    {
      "cell_type": "code",
      "source": [
        "def dict_to_list(d):\n",
        "    return sorted(list(d.items()))\n",
        "\n",
        "print(dict_to_list({ \"D\": 1, \"B\": 2, \"C\": 3 }))\n",
        "print(dict_to_list({ \"likes\": 2, \"dislikes\": 3, \"followers\": 10 }))\n"
      ],
      "metadata": {
        "colab": {
          "base_uri": "https://localhost:8080/"
        },
        "id": "HBzAZnYGhK5b",
        "outputId": "4bba8847-47d7-4a51-9d69-59230ec94683"
      },
      "execution_count": null,
      "outputs": [
        {
          "output_type": "stream",
          "name": "stdout",
          "text": [
            "[('B', 2), ('C', 3), ('D', 1)]\n",
            "[('dislikes', 3), ('followers', 10), ('likes', 2)]\n"
          ]
        }
      ]
    },
    {
      "cell_type": "markdown",
      "source": [
        "3. Write a function that creates a dictionary with each (key, value) pair being the (lower case,\n",
        "upper case) versions of a letter, respectively.\n",
        "Examples\n",
        "mapping(['p', 's']) ➞ { 'p': 'P', 's': 'S' }\n",
        "\n",
        "mapping(['a', 'b', 'c']) ➞ { 'a': 'A', 'b': 'B', 'c': 'C' }\n",
        "mapping(['a', 'v', 'y', 'z']) ➞ { 'a': 'A', 'v': 'V', 'y': 'Y', 'z': 'Z' }\n",
        "Notes\n",
        "All of the letters in the input list will always be lowercase."
      ],
      "metadata": {
        "id": "U22lPAXIi9RS"
      }
    },
    {
      "cell_type": "code",
      "source": [
        "def mapping(l):\n",
        "    return {v.lower():v.upper() for v in l}\n",
        "\n",
        "l1 = ['p','s'] \n",
        "l2 = ['a','b']\n",
        "l3 = ['a', 'v', 'y', 'z']\n",
        "\n",
        "print(\"values are\",l1,\"dict is \",mapping(l1))\n",
        "print(\"values are\",l2,\"dict is \",mapping(l2))\n",
        "print(\"values are\",l3,\"dict is \",mapping(l3))"
      ],
      "metadata": {
        "colab": {
          "base_uri": "https://localhost:8080/"
        },
        "id": "I7RXUStihMOL",
        "outputId": "b28bf010-dc81-4040-e480-2d0536388835"
      },
      "execution_count": null,
      "outputs": [
        {
          "output_type": "stream",
          "name": "stdout",
          "text": [
            "values are ['p', 's'] dict is  {'p': 'P', 's': 'S'}\n",
            "values are ['a', 'b'] dict is  {'a': 'A', 'b': 'B'}\n",
            "values are ['a', 'v', 'y', 'z'] dict is  {'a': 'A', 'v': 'V', 'y': 'Y', 'z': 'Z'}\n"
          ]
        }
      ]
    },
    {
      "cell_type": "markdown",
      "source": [
        "4. Write a function, that replaces all vowels in a string with a specified vowel.\n",
        "Examples\n",
        "vow_replace('apples and bananas', 'u') ➞ 'upplus und bununus'\n",
        "vow_replace('cheese casserole', 'o') ➞ 'chooso cossorolo'\n",
        "vow_replace('stuffed jalapeno poppers', 'e') ➞ 'steffed jelepene peppers'\n",
        "Notes\n",
        "All words will be lowercase. Y is not considered a vowel."
      ],
      "metadata": {
        "id": "RBRRVBKsln4R"
      }
    },
    {
      "cell_type": "code",
      "source": [
        "def vow_replace(s,ch):\n",
        "    vowel ='AEIOUaeiuo'\n",
        "    s1 = []\n",
        "    for i in range(len(s)):\n",
        "        if s[i] in vowel:\n",
        "            s1.append(ch)\n",
        "        else:\n",
        "            s1.append(s[i])\n",
        "\n",
        "    return ''.join((s1))\n",
        "\n",
        "print(\"apples and bananas- vowels is replaced with u - \", vow_replace('apples and bananas', 'u'))\n",
        "print(\"cheese casserole- vowels is replaced with o - \",vow_replace('cheese casserole', 'o'))\n",
        "print(\"stuffed jalapeno poppers- is replaced with e -\",vow_replace('stuffed jalapeno poppers', 'e'))"
      ],
      "metadata": {
        "colab": {
          "base_uri": "https://localhost:8080/"
        },
        "id": "WUxJpb8diW16",
        "outputId": "890b51e5-6d6d-4062-e3be-78e2ecde7832"
      },
      "execution_count": null,
      "outputs": [
        {
          "output_type": "stream",
          "name": "stdout",
          "text": [
            "apples and bananas- vowels is replaced with u -  upplus und bununus\n",
            "cheese casserole- vowels is replaced with o -  chooso cossorolo\n",
            "stuffed jalapeno poppers- is replaced with e - steffed jelepene peppers\n"
          ]
        }
      ]
    },
    {
      "cell_type": "markdown",
      "source": [
        "5. Create a function that takes a string as input and capitalizes a letter if its ASCII code is even\n",
        "and returns its lower case version if its ASCII code is odd.\n",
        "Examples\n",
        "ascii_capitalize(&quot;to be or not to be!&quot;) ➞ &quot;To Be oR NoT To Be!&quot;\n",
        "ascii_capitalize(&quot;THE LITTLE MERMAID&quot;) ➞ &quot;THe LiTTLe meRmaiD&quot;\n",
        "ascii_capitalize(&quot;Oh what a beautiful morning.&quot;) ➞ &quot;oH wHaT a BeauTiFuL\n",
        "moRNiNg.&quot;"
      ],
      "metadata": {
        "id": "-thAvpy2msck"
      }
    },
    {
      "cell_type": "code",
      "source": [
        "def ascii_capitalize(s):\n",
        "    s1 = []\n",
        "    for i in range(len(s)):\n",
        "        if ord(s[i]) % 2 == 0:\n",
        "            s1.append(s[i].upper())\n",
        "        else:\n",
        "            s1.append(s[i].lower())\n",
        "\n",
        "    return \"\".join((s1))\n",
        "\n",
        "print(ascii_capitalize('to be or not to be!'))\n",
        "print(ascii_capitalize('THE LITTLE MERMAID'))\n",
        "print(ascii_capitalize('Oh what a beautiful morning.'))"
      ],
      "metadata": {
        "colab": {
          "base_uri": "https://localhost:8080/"
        },
        "id": "EoiOWoZhl38L",
        "outputId": "141696c5-e577-40f4-9dea-178182f37aa3"
      },
      "execution_count": null,
      "outputs": [
        {
          "output_type": "stream",
          "name": "stdout",
          "text": [
            "To Be oR NoT To Be!\n",
            "THe LiTTLe meRmaiD\n",
            "oH wHaT a BeauTiFuL moRNiNg.\n"
          ]
        }
      ]
    },
    {
      "cell_type": "code",
      "source": [
        ""
      ],
      "metadata": {
        "id": "BLYsOWDKnGSO"
      },
      "execution_count": null,
      "outputs": []
    }
  ]
}